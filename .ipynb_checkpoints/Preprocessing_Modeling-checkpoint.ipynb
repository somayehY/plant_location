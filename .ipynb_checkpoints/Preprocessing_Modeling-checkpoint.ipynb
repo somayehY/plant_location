{
 "cells": [
  {
   "cell_type": "markdown",
   "id": "f6e69bcd",
   "metadata": {},
   "source": [
    "The question that I try to answer here, is to find a simple model to predict truck travelled distance between two locations based on the shortest distance between them. The data that we have is a csv file of the location of plants, a csv file of customer's location. A csv file of historic travels between plants and customers. We want to predict the distance for those pairs we do not have data for.\n"
   ]
  },
  {
   "cell_type": "markdown",
   "id": "6a635c87",
   "metadata": {},
   "source": [
    "## Import libraries"
   ]
  },
  {
   "cell_type": "code",
   "execution_count": 32,
   "id": "94821030",
   "metadata": {},
   "outputs": [],
   "source": [
    "import pandas as pd\n",
    "import numpy as np\n",
    "\n",
    "from geopy.distance import distance"
   ]
  },
  {
   "cell_type": "markdown",
   "id": "fc934079",
   "metadata": {},
   "source": [
    "## Import data files"
   ]
  },
  {
   "cell_type": "code",
   "execution_count": 33,
   "id": "e54f585a",
   "metadata": {},
   "outputs": [
    {
     "data": {
      "text/html": [
       "<div>\n",
       "<style scoped>\n",
       "    .dataframe tbody tr th:only-of-type {\n",
       "        vertical-align: middle;\n",
       "    }\n",
       "\n",
       "    .dataframe tbody tr th {\n",
       "        vertical-align: top;\n",
       "    }\n",
       "\n",
       "    .dataframe thead th {\n",
       "        text-align: right;\n",
       "    }\n",
       "</style>\n",
       "<table border=\"1\" class=\"dataframe\">\n",
       "  <thead>\n",
       "    <tr style=\"text-align: right;\">\n",
       "      <th></th>\n",
       "      <th>plant_number</th>\n",
       "      <th>latitude</th>\n",
       "      <th>longitude</th>\n",
       "    </tr>\n",
       "  </thead>\n",
       "  <tbody>\n",
       "    <tr>\n",
       "      <th>0</th>\n",
       "      <td>plant_1</td>\n",
       "      <td>33.415172</td>\n",
       "      <td>-86.230904</td>\n",
       "    </tr>\n",
       "    <tr>\n",
       "      <th>1</th>\n",
       "      <td>plant_2</td>\n",
       "      <td>35.275113</td>\n",
       "      <td>-92.471814</td>\n",
       "    </tr>\n",
       "    <tr>\n",
       "      <th>2</th>\n",
       "      <td>plant_3</td>\n",
       "      <td>41.225687</td>\n",
       "      <td>-81.416651</td>\n",
       "    </tr>\n",
       "    <tr>\n",
       "      <th>3</th>\n",
       "      <td>plant_4</td>\n",
       "      <td>34.707729</td>\n",
       "      <td>-91.674426</td>\n",
       "    </tr>\n",
       "    <tr>\n",
       "      <th>4</th>\n",
       "      <td>plant_5</td>\n",
       "      <td>34.088075</td>\n",
       "      <td>-89.644492</td>\n",
       "    </tr>\n",
       "  </tbody>\n",
       "</table>\n",
       "</div>"
      ],
      "text/plain": [
       "  plant_number   latitude  longitude\n",
       "0      plant_1  33.415172 -86.230904\n",
       "1      plant_2  35.275113 -92.471814\n",
       "2      plant_3  41.225687 -81.416651\n",
       "3      plant_4  34.707729 -91.674426\n",
       "4      plant_5  34.088075 -89.644492"
      ]
     },
     "execution_count": 33,
     "metadata": {},
     "output_type": "execute_result"
    }
   ],
   "source": [
    "plants = pd.read_csv('plants.csv')\n",
    "plants.head()"
   ]
  },
  {
   "cell_type": "code",
   "execution_count": 34,
   "id": "d3fe0646",
   "metadata": {},
   "outputs": [
    {
     "data": {
      "text/html": [
       "<div>\n",
       "<style scoped>\n",
       "    .dataframe tbody tr th:only-of-type {\n",
       "        vertical-align: middle;\n",
       "    }\n",
       "\n",
       "    .dataframe tbody tr th {\n",
       "        vertical-align: top;\n",
       "    }\n",
       "\n",
       "    .dataframe thead th {\n",
       "        text-align: right;\n",
       "    }\n",
       "</style>\n",
       "<table border=\"1\" class=\"dataframe\">\n",
       "  <thead>\n",
       "    <tr style=\"text-align: right;\">\n",
       "      <th></th>\n",
       "      <th>customer_number</th>\n",
       "      <th>latitude</th>\n",
       "      <th>longitude</th>\n",
       "    </tr>\n",
       "  </thead>\n",
       "  <tbody>\n",
       "    <tr>\n",
       "      <th>0</th>\n",
       "      <td>customer_1</td>\n",
       "      <td>33.277181</td>\n",
       "      <td>-97.982051</td>\n",
       "    </tr>\n",
       "    <tr>\n",
       "      <th>1</th>\n",
       "      <td>customer_2</td>\n",
       "      <td>45.075334</td>\n",
       "      <td>-87.906426</td>\n",
       "    </tr>\n",
       "    <tr>\n",
       "      <th>2</th>\n",
       "      <td>customer_3</td>\n",
       "      <td>33.837430</td>\n",
       "      <td>-95.934696</td>\n",
       "    </tr>\n",
       "    <tr>\n",
       "      <th>3</th>\n",
       "      <td>customer_4</td>\n",
       "      <td>33.362368</td>\n",
       "      <td>-86.999961</td>\n",
       "    </tr>\n",
       "    <tr>\n",
       "      <th>4</th>\n",
       "      <td>customer_5</td>\n",
       "      <td>42.997963</td>\n",
       "      <td>-84.409003</td>\n",
       "    </tr>\n",
       "  </tbody>\n",
       "</table>\n",
       "</div>"
      ],
      "text/plain": [
       "  customer_number   latitude  longitude\n",
       "0      customer_1  33.277181 -97.982051\n",
       "1      customer_2  45.075334 -87.906426\n",
       "2      customer_3  33.837430 -95.934696\n",
       "3      customer_4  33.362368 -86.999961\n",
       "4      customer_5  42.997963 -84.409003"
      ]
     },
     "execution_count": 34,
     "metadata": {},
     "output_type": "execute_result"
    }
   ],
   "source": [
    "customers = pd.read_csv('customers.csv')\n",
    "customers.head()"
   ]
  },
  {
   "cell_type": "code",
   "execution_count": 35,
   "id": "b7d36bc0",
   "metadata": {},
   "outputs": [
    {
     "data": {
      "text/html": [
       "<div>\n",
       "<style scoped>\n",
       "    .dataframe tbody tr th:only-of-type {\n",
       "        vertical-align: middle;\n",
       "    }\n",
       "\n",
       "    .dataframe tbody tr th {\n",
       "        vertical-align: top;\n",
       "    }\n",
       "\n",
       "    .dataframe thead th {\n",
       "        text-align: right;\n",
       "    }\n",
       "</style>\n",
       "<table border=\"1\" class=\"dataframe\">\n",
       "  <thead>\n",
       "    <tr style=\"text-align: right;\">\n",
       "      <th></th>\n",
       "      <th>plant</th>\n",
       "      <th>customer</th>\n",
       "      <th>distance1</th>\n",
       "      <th>distance2</th>\n",
       "      <th>distance3</th>\n",
       "    </tr>\n",
       "  </thead>\n",
       "  <tbody>\n",
       "    <tr>\n",
       "      <th>0</th>\n",
       "      <td>plant_1</td>\n",
       "      <td>customer_1</td>\n",
       "      <td>1022.538892</td>\n",
       "      <td>1909.071326</td>\n",
       "      <td>1804.490045</td>\n",
       "    </tr>\n",
       "    <tr>\n",
       "      <th>1</th>\n",
       "      <td>plant_1</td>\n",
       "      <td>customer_4</td>\n",
       "      <td>79.792130</td>\n",
       "      <td>113.169995</td>\n",
       "      <td>122.108886</td>\n",
       "    </tr>\n",
       "    <tr>\n",
       "      <th>2</th>\n",
       "      <td>plant_1</td>\n",
       "      <td>customer_5</td>\n",
       "      <td>1078.192940</td>\n",
       "      <td>1722.460238</td>\n",
       "      <td>2546.346183</td>\n",
       "    </tr>\n",
       "    <tr>\n",
       "      <th>3</th>\n",
       "      <td>plant_1</td>\n",
       "      <td>customer_9</td>\n",
       "      <td>437.484709</td>\n",
       "      <td>718.872605</td>\n",
       "      <td>952.808488</td>\n",
       "    </tr>\n",
       "    <tr>\n",
       "      <th>4</th>\n",
       "      <td>plant_1</td>\n",
       "      <td>customer_10</td>\n",
       "      <td>970.980839</td>\n",
       "      <td>2023.114377</td>\n",
       "      <td>2563.629101</td>\n",
       "    </tr>\n",
       "  </tbody>\n",
       "</table>\n",
       "</div>"
      ],
      "text/plain": [
       "     plant     customer    distance1    distance2    distance3\n",
       "0  plant_1   customer_1  1022.538892  1909.071326  1804.490045\n",
       "1  plant_1   customer_4    79.792130   113.169995   122.108886\n",
       "2  plant_1   customer_5  1078.192940  1722.460238  2546.346183\n",
       "3  plant_1   customer_9   437.484709   718.872605   952.808488\n",
       "4  plant_1  customer_10   970.980839  2023.114377  2563.629101"
      ]
     },
     "execution_count": 35,
     "metadata": {},
     "output_type": "execute_result"
    }
   ],
   "source": [
    "df = pd.read_csv('historicdata.csv')\n",
    "df.head()"
   ]
  },
  {
   "cell_type": "markdown",
   "id": "8377f7be",
   "metadata": {},
   "source": [
    "## Data cleaning"
   ]
  },
  {
   "cell_type": "markdown",
   "id": "183d7e2b",
   "metadata": {},
   "source": [
    "Let's find average of historic milages and add the location of plants and customers"
   ]
  },
  {
   "cell_type": "code",
   "execution_count": 36,
   "id": "c32660e2",
   "metadata": {},
   "outputs": [],
   "source": [
    "df['distance_mean'] = df[['distance1', 'distance2', 'distance3']].mean(axis=1)"
   ]
  },
  {
   "cell_type": "code",
   "execution_count": 37,
   "id": "8d643f7e",
   "metadata": {},
   "outputs": [],
   "source": [
    "df = df.merge(plants, left_on='plant', right_on='plant_number')\n",
    "df.rename(columns={'latitude':'plant_lat',\n",
    "          'longitude':'plant_long'}, inplace=True)"
   ]
  },
  {
   "cell_type": "code",
   "execution_count": 38,
   "id": "be3f038a",
   "metadata": {},
   "outputs": [],
   "source": [
    "df = df.merge(customers, left_on='customer', right_on='customer_number')\n",
    "df.rename(columns={'latitude':'customer_lat',\n",
    "          'longitude':'customer_long'}, inplace=True)"
   ]
  },
  {
   "cell_type": "code",
   "execution_count": 39,
   "id": "1a56b77d",
   "metadata": {},
   "outputs": [
    {
     "data": {
      "text/html": [
       "<div>\n",
       "<style scoped>\n",
       "    .dataframe tbody tr th:only-of-type {\n",
       "        vertical-align: middle;\n",
       "    }\n",
       "\n",
       "    .dataframe tbody tr th {\n",
       "        vertical-align: top;\n",
       "    }\n",
       "\n",
       "    .dataframe thead th {\n",
       "        text-align: right;\n",
       "    }\n",
       "</style>\n",
       "<table border=\"1\" class=\"dataframe\">\n",
       "  <thead>\n",
       "    <tr style=\"text-align: right;\">\n",
       "      <th></th>\n",
       "      <th>plant</th>\n",
       "      <th>customer</th>\n",
       "      <th>distance1</th>\n",
       "      <th>distance2</th>\n",
       "      <th>distance3</th>\n",
       "      <th>distance_mean</th>\n",
       "      <th>plant_number</th>\n",
       "      <th>plant_lat</th>\n",
       "      <th>plant_long</th>\n",
       "      <th>customer_number</th>\n",
       "      <th>customer_lat</th>\n",
       "      <th>customer_long</th>\n",
       "    </tr>\n",
       "  </thead>\n",
       "  <tbody>\n",
       "    <tr>\n",
       "      <th>0</th>\n",
       "      <td>plant_1</td>\n",
       "      <td>customer_1</td>\n",
       "      <td>1022.538892</td>\n",
       "      <td>1909.071326</td>\n",
       "      <td>1804.490045</td>\n",
       "      <td>1578.700088</td>\n",
       "      <td>plant_1</td>\n",
       "      <td>33.415172</td>\n",
       "      <td>-86.230904</td>\n",
       "      <td>customer_1</td>\n",
       "      <td>33.277181</td>\n",
       "      <td>-97.982051</td>\n",
       "    </tr>\n",
       "    <tr>\n",
       "      <th>1</th>\n",
       "      <td>plant_2</td>\n",
       "      <td>customer_1</td>\n",
       "      <td>521.146509</td>\n",
       "      <td>1011.695183</td>\n",
       "      <td>1165.806764</td>\n",
       "      <td>899.549485</td>\n",
       "      <td>plant_2</td>\n",
       "      <td>35.275113</td>\n",
       "      <td>-92.471814</td>\n",
       "      <td>customer_1</td>\n",
       "      <td>33.277181</td>\n",
       "      <td>-97.982051</td>\n",
       "    </tr>\n",
       "    <tr>\n",
       "      <th>2</th>\n",
       "      <td>plant_4</td>\n",
       "      <td>customer_1</td>\n",
       "      <td>493.593647</td>\n",
       "      <td>1006.659772</td>\n",
       "      <td>1283.408347</td>\n",
       "      <td>927.887255</td>\n",
       "      <td>plant_4</td>\n",
       "      <td>34.707729</td>\n",
       "      <td>-91.674426</td>\n",
       "      <td>customer_1</td>\n",
       "      <td>33.277181</td>\n",
       "      <td>-97.982051</td>\n",
       "    </tr>\n",
       "    <tr>\n",
       "      <th>3</th>\n",
       "      <td>plant_7</td>\n",
       "      <td>customer_1</td>\n",
       "      <td>752.197911</td>\n",
       "      <td>1265.738917</td>\n",
       "      <td>1303.771773</td>\n",
       "      <td>1107.236200</td>\n",
       "      <td>plant_7</td>\n",
       "      <td>36.162604</td>\n",
       "      <td>-90.194118</td>\n",
       "      <td>customer_1</td>\n",
       "      <td>33.277181</td>\n",
       "      <td>-97.982051</td>\n",
       "    </tr>\n",
       "    <tr>\n",
       "      <th>4</th>\n",
       "      <td>plant_9</td>\n",
       "      <td>customer_1</td>\n",
       "      <td>1517.126747</td>\n",
       "      <td>2955.654637</td>\n",
       "      <td>3138.197330</td>\n",
       "      <td>2536.992905</td>\n",
       "      <td>plant_9</td>\n",
       "      <td>38.947328</td>\n",
       "      <td>-78.431934</td>\n",
       "      <td>customer_1</td>\n",
       "      <td>33.277181</td>\n",
       "      <td>-97.982051</td>\n",
       "    </tr>\n",
       "  </tbody>\n",
       "</table>\n",
       "</div>"
      ],
      "text/plain": [
       "     plant    customer    distance1    distance2    distance3  distance_mean  \\\n",
       "0  plant_1  customer_1  1022.538892  1909.071326  1804.490045    1578.700088   \n",
       "1  plant_2  customer_1   521.146509  1011.695183  1165.806764     899.549485   \n",
       "2  plant_4  customer_1   493.593647  1006.659772  1283.408347     927.887255   \n",
       "3  plant_7  customer_1   752.197911  1265.738917  1303.771773    1107.236200   \n",
       "4  plant_9  customer_1  1517.126747  2955.654637  3138.197330    2536.992905   \n",
       "\n",
       "  plant_number  plant_lat  plant_long customer_number  customer_lat  \\\n",
       "0      plant_1  33.415172  -86.230904      customer_1     33.277181   \n",
       "1      plant_2  35.275113  -92.471814      customer_1     33.277181   \n",
       "2      plant_4  34.707729  -91.674426      customer_1     33.277181   \n",
       "3      plant_7  36.162604  -90.194118      customer_1     33.277181   \n",
       "4      plant_9  38.947328  -78.431934      customer_1     33.277181   \n",
       "\n",
       "   customer_long  \n",
       "0     -97.982051  \n",
       "1     -97.982051  \n",
       "2     -97.982051  \n",
       "3     -97.982051  \n",
       "4     -97.982051  "
      ]
     },
     "execution_count": 39,
     "metadata": {},
     "output_type": "execute_result"
    }
   ],
   "source": [
    "df.head()"
   ]
  },
  {
   "cell_type": "code",
   "execution_count": 40,
   "id": "53fc1fb7",
   "metadata": {},
   "outputs": [],
   "source": [
    "df.drop(columns=['customer_number', 'plant_number'], inplace=True)"
   ]
  },
  {
   "cell_type": "markdown",
   "id": "f84c1efa",
   "metadata": {},
   "source": [
    "Lets find the shortest distance between points by using distance from geopy"
   ]
  },
  {
   "cell_type": "code",
   "execution_count": 41,
   "id": "fa6a450c",
   "metadata": {},
   "outputs": [],
   "source": [
    "## Lets find geodesc distance\n",
    "df['geo_distance'] = np.nan\n",
    "for index, row in df.iterrows():\n",
    "    \n",
    "    point1 = [row['plant_lat'], row['plant_long']]\n",
    "    point2 = [row['customer_lat'], row['customer_long']]\n",
    "    df.loc[index,'geo_distance'] = distance(point1, point2).miles"
   ]
  },
  {
   "cell_type": "code",
   "execution_count": 42,
   "id": "af1b1d6f",
   "metadata": {},
   "outputs": [
    {
     "data": {
      "text/html": [
       "<div>\n",
       "<style scoped>\n",
       "    .dataframe tbody tr th:only-of-type {\n",
       "        vertical-align: middle;\n",
       "    }\n",
       "\n",
       "    .dataframe tbody tr th {\n",
       "        vertical-align: top;\n",
       "    }\n",
       "\n",
       "    .dataframe thead th {\n",
       "        text-align: right;\n",
       "    }\n",
       "</style>\n",
       "<table border=\"1\" class=\"dataframe\">\n",
       "  <thead>\n",
       "    <tr style=\"text-align: right;\">\n",
       "      <th></th>\n",
       "      <th>plant</th>\n",
       "      <th>customer</th>\n",
       "      <th>distance1</th>\n",
       "      <th>distance2</th>\n",
       "      <th>distance3</th>\n",
       "      <th>distance_mean</th>\n",
       "      <th>plant_lat</th>\n",
       "      <th>plant_long</th>\n",
       "      <th>customer_lat</th>\n",
       "      <th>customer_long</th>\n",
       "      <th>geo_distance</th>\n",
       "    </tr>\n",
       "  </thead>\n",
       "  <tbody>\n",
       "    <tr>\n",
       "      <th>0</th>\n",
       "      <td>plant_1</td>\n",
       "      <td>customer_1</td>\n",
       "      <td>1022.538892</td>\n",
       "      <td>1909.071326</td>\n",
       "      <td>1804.490045</td>\n",
       "      <td>1578.700088</td>\n",
       "      <td>33.415172</td>\n",
       "      <td>-86.230904</td>\n",
       "      <td>33.277181</td>\n",
       "      <td>-97.982051</td>\n",
       "      <td>679.406911</td>\n",
       "    </tr>\n",
       "    <tr>\n",
       "      <th>1</th>\n",
       "      <td>plant_2</td>\n",
       "      <td>customer_1</td>\n",
       "      <td>521.146509</td>\n",
       "      <td>1011.695183</td>\n",
       "      <td>1165.806764</td>\n",
       "      <td>899.549485</td>\n",
       "      <td>35.275113</td>\n",
       "      <td>-92.471814</td>\n",
       "      <td>33.277181</td>\n",
       "      <td>-97.982051</td>\n",
       "      <td>343.981693</td>\n",
       "    </tr>\n",
       "    <tr>\n",
       "      <th>2</th>\n",
       "      <td>plant_4</td>\n",
       "      <td>customer_1</td>\n",
       "      <td>493.593647</td>\n",
       "      <td>1006.659772</td>\n",
       "      <td>1283.408347</td>\n",
       "      <td>927.887255</td>\n",
       "      <td>34.707729</td>\n",
       "      <td>-91.674426</td>\n",
       "      <td>33.277181</td>\n",
       "      <td>-97.982051</td>\n",
       "      <td>375.229400</td>\n",
       "    </tr>\n",
       "    <tr>\n",
       "      <th>3</th>\n",
       "      <td>plant_7</td>\n",
       "      <td>customer_1</td>\n",
       "      <td>752.197911</td>\n",
       "      <td>1265.738917</td>\n",
       "      <td>1303.771773</td>\n",
       "      <td>1107.236200</td>\n",
       "      <td>36.162604</td>\n",
       "      <td>-90.194118</td>\n",
       "      <td>33.277181</td>\n",
       "      <td>-97.982051</td>\n",
       "      <td>485.635360</td>\n",
       "    </tr>\n",
       "  </tbody>\n",
       "</table>\n",
       "</div>"
      ],
      "text/plain": [
       "     plant    customer    distance1    distance2    distance3  distance_mean  \\\n",
       "0  plant_1  customer_1  1022.538892  1909.071326  1804.490045    1578.700088   \n",
       "1  plant_2  customer_1   521.146509  1011.695183  1165.806764     899.549485   \n",
       "2  plant_4  customer_1   493.593647  1006.659772  1283.408347     927.887255   \n",
       "3  plant_7  customer_1   752.197911  1265.738917  1303.771773    1107.236200   \n",
       "\n",
       "   plant_lat  plant_long  customer_lat  customer_long  geo_distance  \n",
       "0  33.415172  -86.230904     33.277181     -97.982051    679.406911  \n",
       "1  35.275113  -92.471814     33.277181     -97.982051    343.981693  \n",
       "2  34.707729  -91.674426     33.277181     -97.982051    375.229400  \n",
       "3  36.162604  -90.194118     33.277181     -97.982051    485.635360  "
      ]
     },
     "execution_count": 42,
     "metadata": {},
     "output_type": "execute_result"
    }
   ],
   "source": [
    "df.head(4)"
   ]
  },
  {
   "cell_type": "code",
   "execution_count": 43,
   "id": "34f7ec01",
   "metadata": {},
   "outputs": [],
   "source": [
    "import seaborn as sns"
   ]
  },
  {
   "cell_type": "code",
   "execution_count": 44,
   "id": "a3988258",
   "metadata": {},
   "outputs": [
    {
     "data": {
      "text/plain": [
       "<AxesSubplot:xlabel='distance_mean', ylabel='geo_distance'>"
      ]
     },
     "execution_count": 44,
     "metadata": {},
     "output_type": "execute_result"
    },
    {
     "data": {
      "image/png": "[encoded data removed]",
      "text/plain": [
       "<Figure size 432x288 with 1 Axes>"
      ]
     },
     "metadata": {
      "needs_background": "light"
     },
     "output_type": "display_data"
    }
   ],
   "source": [
    "sns.scatterplot(x=df['distance_mean'], y=df['geo_distance'])"
   ]
  },
  {
   "cell_type": "markdown",
   "id": "da17bcd3",
   "metadata": {},
   "source": [
    "## Model training"
   ]
  },
  {
   "cell_type": "markdown",
   "id": "cf934b70",
   "metadata": {},
   "source": [
    "We split the data into two sets, training and test. Then use cross-validation with 5 fold to do a regression. we then find R2 and mean MAE"
   ]
  },
  {
   "cell_type": "code",
   "execution_count": 98,
   "id": "9106c455",
   "metadata": {},
   "outputs": [],
   "source": [
    "X = df['geo_distance'].values.reshape(-1, 1)\n",
    "y = df['distance_mean'].values.reshape(-1, 1)"
   ]
  },
  {
   "cell_type": "code",
   "execution_count": 99,
   "id": "e1d65ff5",
   "metadata": {},
   "outputs": [],
   "source": [
    "from sklearn.linear_model import LinearRegression\n",
    "from sklearn.metrics import r2_score, mean_squared_error, mean_absolute_error\n",
    "from sklearn.model_selection import train_test_split, cross_validate, GridSearchCV, KFold, cross_val_predict"
   ]
  },
  {
   "cell_type": "code",
   "execution_count": 100,
   "id": "3318dc55",
   "metadata": {},
   "outputs": [],
   "source": [
    "X_train, X_test, y_train, y_test = train_test_split(X, y, test_size=0.3, shuffle=True, random_state=42)"
   ]
  },
  {
   "cell_type": "code",
   "execution_count": 101,
   "id": "bcac9c84",
   "metadata": {},
   "outputs": [
    {
     "name": "stdout",
     "output_type": "stream",
     "text": [
      "[-31837.07148821 -31509.91000364 -30701.8764297  -29159.01551928\n",
      " -33288.62965701]\n",
      "-31299.300619566267 1358.581599475115\n"
     ]
    }
   ],
   "source": [
    "model = LinearRegression()\n",
    "kfold = KFold(n_splits=5, shuffle = False)\n",
    "\n",
    "cv_results = cross_validate(model, X_train, y_train, cv = kfold, scoring='neg_mean_squared_error')\n",
    "cv_scores = cv_results['test_score']\n",
    "print(cv_scores)\n",
    "print(np.mean(cv_scores), np.std(cv_scores))"
   ]
  },
  {
   "cell_type": "code",
   "execution_count": 102,
   "id": "a71acbad",
   "metadata": {},
   "outputs": [],
   "source": [
    "final_model = model.fit (X_train, y_train)"
   ]
  },
  {
   "cell_type": "code",
   "execution_count": null,
   "id": "91a1c8ec",
   "metadata": {},
   "outputs": [],
   "source": []
  },
  {
   "cell_type": "code",
   "execution_count": 103,
   "id": "b95d3c12",
   "metadata": {},
   "outputs": [
    {
     "name": "stdout",
     "output_type": "stream",
     "text": [
      "train R2: 0.95\n",
      "test R2:  0.95\n"
     ]
    }
   ],
   "source": [
    "y_train_pred = final_model.predict(X_train)\n",
    "y_test_pred = final_model.predict(X_test)\n",
    "\n",
    "train_r2 = round(r2_score(y_train, y_train_pred), 2)\n",
    "test_r2 = round(r2_score(y_test, y_test_pred), 2)\n",
    "print('train R2:', train_r2)\n",
    "print('test R2: ', test_r2)"
   ]
  },
  {
   "cell_type": "markdown",
   "id": "f45e61ee",
   "metadata": {},
   "source": [
    "The R2 for test and train are very similar. The model is not overfitting. Let's use it to predict the distance between plants and customers. But first lets see what pair we don't have data for."
   ]
  },
  {
   "cell_type": "code",
   "execution_count": 104,
   "id": "6654bdf6",
   "metadata": {},
   "outputs": [],
   "source": [
    "df['plant_customer'] = [str(x) + '**' + str(y) for x, y in zip(df['plant'], df['customer'])]"
   ]
  },
  {
   "cell_type": "code",
   "execution_count": 105,
   "id": "65c4432a",
   "metadata": {},
   "outputs": [],
   "source": [
    "all_pair = []\n",
    "for plant_name in plants['plant_number'].unique():\n",
    "    for customer in customers['customer_number']:\n",
    "        pair = plant_name + '**' + customer\n",
    "        all_pair.append(pair)"
   ]
  },
  {
   "cell_type": "code",
   "execution_count": 106,
   "id": "01d790dd",
   "metadata": {},
   "outputs": [
    {
     "data": {
      "text/plain": [
       "100000"
      ]
     },
     "execution_count": 106,
     "metadata": {},
     "output_type": "execute_result"
    }
   ],
   "source": [
    "len(all_pair)"
   ]
  },
  {
   "cell_type": "code",
   "execution_count": 108,
   "id": "52a101c4",
   "metadata": {},
   "outputs": [],
   "source": [
    "unavailable_pairs = list(set(all_pair) - set(all_pair).intersection(set(df['plant_customer'])))"
   ]
  },
  {
   "cell_type": "code",
   "execution_count": 109,
   "id": "784bf785",
   "metadata": {},
   "outputs": [
    {
     "data": {
      "text/plain": [
       "72555"
      ]
     },
     "execution_count": 109,
     "metadata": {},
     "output_type": "execute_result"
    }
   ],
   "source": [
    "len(unavailable_pairs)"
   ]
  },
  {
   "cell_type": "code",
   "execution_count": 110,
   "id": "422183ee",
   "metadata": {},
   "outputs": [],
   "source": [
    "unavailable = pd.DataFrame()"
   ]
  },
  {
   "cell_type": "code",
   "execution_count": 111,
   "id": "b88dc775",
   "metadata": {},
   "outputs": [
    {
     "data": {
      "text/html": [
       "<div>\n",
       "<style scoped>\n",
       "    .dataframe tbody tr th:only-of-type {\n",
       "        vertical-align: middle;\n",
       "    }\n",
       "\n",
       "    .dataframe tbody tr th {\n",
       "        vertical-align: top;\n",
       "    }\n",
       "\n",
       "    .dataframe thead th {\n",
       "        text-align: right;\n",
       "    }\n",
       "</style>\n",
       "<table border=\"1\" class=\"dataframe\">\n",
       "  <thead>\n",
       "    <tr style=\"text-align: right;\">\n",
       "      <th></th>\n",
       "      <th>plant_number</th>\n",
       "      <th>customer_number</th>\n",
       "    </tr>\n",
       "  </thead>\n",
       "  <tbody>\n",
       "    <tr>\n",
       "      <th>0</th>\n",
       "      <td>plant_6</td>\n",
       "      <td>customer_1439</td>\n",
       "    </tr>\n",
       "    <tr>\n",
       "      <th>1</th>\n",
       "      <td>plant_10</td>\n",
       "      <td>customer_2229</td>\n",
       "    </tr>\n",
       "    <tr>\n",
       "      <th>2</th>\n",
       "      <td>plant_13</td>\n",
       "      <td>customer_3429</td>\n",
       "    </tr>\n",
       "    <tr>\n",
       "      <th>3</th>\n",
       "      <td>plant_14</td>\n",
       "      <td>customer_1392</td>\n",
       "    </tr>\n",
       "    <tr>\n",
       "      <th>4</th>\n",
       "      <td>plant_14</td>\n",
       "      <td>customer_2576</td>\n",
       "    </tr>\n",
       "  </tbody>\n",
       "</table>\n",
       "</div>"
      ],
      "text/plain": [
       "  plant_number customer_number\n",
       "0      plant_6   customer_1439\n",
       "1     plant_10   customer_2229\n",
       "2     plant_13   customer_3429\n",
       "3     plant_14   customer_1392\n",
       "4     plant_14   customer_2576"
      ]
     },
     "execution_count": 111,
     "metadata": {},
     "output_type": "execute_result"
    }
   ],
   "source": [
    "unavailable['plant_number'] = [pair.split('**')[0] for pair in unavailable_pairs]\n",
    "unavailable['customer_number'] = [pair.split('**')[1] for pair in unavailable_pairs]\n",
    "unavailable.head()"
   ]
  },
  {
   "cell_type": "code",
   "execution_count": 112,
   "id": "f1f28aed",
   "metadata": {},
   "outputs": [],
   "source": [
    "unavailable = unavailable.merge(plants, on='plant_number', how='left')\n",
    "unavailable.rename(columns={'latitude':'plant_lat',\n",
    "          'longitude':'plant_long'}, inplace=True)\n",
    "unavailable = unavailable.merge(customers, on='customer_number', how='left')\n",
    "unavailable.rename(columns={'latitude':'customer_lat',\n",
    "          'longitude':'customer_long'}, inplace=True)"
   ]
  },
  {
   "cell_type": "code",
   "execution_count": 113,
   "id": "929373f9",
   "metadata": {},
   "outputs": [
    {
     "data": {
      "text/html": [
       "<div>\n",
       "<style scoped>\n",
       "    .dataframe tbody tr th:only-of-type {\n",
       "        vertical-align: middle;\n",
       "    }\n",
       "\n",
       "    .dataframe tbody tr th {\n",
       "        vertical-align: top;\n",
       "    }\n",
       "\n",
       "    .dataframe thead th {\n",
       "        text-align: right;\n",
       "    }\n",
       "</style>\n",
       "<table border=\"1\" class=\"dataframe\">\n",
       "  <thead>\n",
       "    <tr style=\"text-align: right;\">\n",
       "      <th></th>\n",
       "      <th>plant_number</th>\n",
       "      <th>customer_number</th>\n",
       "      <th>plant_lat</th>\n",
       "      <th>plant_long</th>\n",
       "      <th>customer_lat</th>\n",
       "      <th>customer_long</th>\n",
       "    </tr>\n",
       "  </thead>\n",
       "  <tbody>\n",
       "    <tr>\n",
       "      <th>0</th>\n",
       "      <td>plant_6</td>\n",
       "      <td>customer_1439</td>\n",
       "      <td>33.184965</td>\n",
       "      <td>-108.283899</td>\n",
       "      <td>32.704849</td>\n",
       "      <td>-87.909003</td>\n",
       "    </tr>\n",
       "    <tr>\n",
       "      <th>1</th>\n",
       "      <td>plant_10</td>\n",
       "      <td>customer_2229</td>\n",
       "      <td>33.692519</td>\n",
       "      <td>-94.508827</td>\n",
       "      <td>36.265853</td>\n",
       "      <td>-90.353542</td>\n",
       "    </tr>\n",
       "    <tr>\n",
       "      <th>2</th>\n",
       "      <td>plant_13</td>\n",
       "      <td>customer_3429</td>\n",
       "      <td>34.698649</td>\n",
       "      <td>-93.802288</td>\n",
       "      <td>37.671933</td>\n",
       "      <td>-82.035654</td>\n",
       "    </tr>\n",
       "    <tr>\n",
       "      <th>3</th>\n",
       "      <td>plant_14</td>\n",
       "      <td>customer_1392</td>\n",
       "      <td>34.542425</td>\n",
       "      <td>-85.739381</td>\n",
       "      <td>33.647213</td>\n",
       "      <td>-88.087360</td>\n",
       "    </tr>\n",
       "    <tr>\n",
       "      <th>4</th>\n",
       "      <td>plant_14</td>\n",
       "      <td>customer_2576</td>\n",
       "      <td>34.542425</td>\n",
       "      <td>-85.739381</td>\n",
       "      <td>34.801664</td>\n",
       "      <td>-96.070249</td>\n",
       "    </tr>\n",
       "  </tbody>\n",
       "</table>\n",
       "</div>"
      ],
      "text/plain": [
       "  plant_number customer_number  plant_lat  plant_long  customer_lat  \\\n",
       "0      plant_6   customer_1439  33.184965 -108.283899     32.704849   \n",
       "1     plant_10   customer_2229  33.692519  -94.508827     36.265853   \n",
       "2     plant_13   customer_3429  34.698649  -93.802288     37.671933   \n",
       "3     plant_14   customer_1392  34.542425  -85.739381     33.647213   \n",
       "4     plant_14   customer_2576  34.542425  -85.739381     34.801664   \n",
       "\n",
       "   customer_long  \n",
       "0     -87.909003  \n",
       "1     -90.353542  \n",
       "2     -82.035654  \n",
       "3     -88.087360  \n",
       "4     -96.070249  "
      ]
     },
     "execution_count": 113,
     "metadata": {},
     "output_type": "execute_result"
    }
   ],
   "source": [
    "unavailable.head()"
   ]
  },
  {
   "cell_type": "code",
   "execution_count": 114,
   "id": "754cd737",
   "metadata": {},
   "outputs": [],
   "source": [
    "\n",
    "unavailable['geo_distance'] = np.nan\n",
    "for index, row in unavailable.iterrows():\n",
    "    \n",
    "    point1 = [row['plant_lat'], row['plant_long']]\n",
    "    point2 = [row['customer_lat'], row['customer_long']]\n",
    "    unavailable.loc[index,'geo_distance'] = distance(point1, point2).miles"
   ]
  },
  {
   "cell_type": "code",
   "execution_count": 115,
   "id": "e9dccbd6",
   "metadata": {},
   "outputs": [],
   "source": [
    "X = unavailable['geo_distance'].values.reshape(-1,1)\n",
    " "
   ]
  },
  {
   "cell_type": "code",
   "execution_count": 116,
   "id": "3f9b568b",
   "metadata": {},
   "outputs": [],
   "source": [
    "prediction = final_model.predict(X)"
   ]
  },
  {
   "cell_type": "code",
   "execution_count": 117,
   "id": "a12be486",
   "metadata": {},
   "outputs": [],
   "source": [
    "unavailable['distance'] = prediction"
   ]
  },
  {
   "cell_type": "code",
   "execution_count": 118,
   "id": "cbd62f39",
   "metadata": {},
   "outputs": [
    {
     "data": {
      "text/html": [
       "<div>\n",
       "<style scoped>\n",
       "    .dataframe tbody tr th:only-of-type {\n",
       "        vertical-align: middle;\n",
       "    }\n",
       "\n",
       "    .dataframe tbody tr th {\n",
       "        vertical-align: top;\n",
       "    }\n",
       "\n",
       "    .dataframe thead th {\n",
       "        text-align: right;\n",
       "    }\n",
       "</style>\n",
       "<table border=\"1\" class=\"dataframe\">\n",
       "  <thead>\n",
       "    <tr style=\"text-align: right;\">\n",
       "      <th></th>\n",
       "      <th>plant_number</th>\n",
       "      <th>customer_number</th>\n",
       "      <th>plant_lat</th>\n",
       "      <th>plant_long</th>\n",
       "      <th>customer_lat</th>\n",
       "      <th>customer_long</th>\n",
       "      <th>geo_distance</th>\n",
       "      <th>distance</th>\n",
       "    </tr>\n",
       "  </thead>\n",
       "  <tbody>\n",
       "    <tr>\n",
       "      <th>0</th>\n",
       "      <td>plant_6</td>\n",
       "      <td>customer_1439</td>\n",
       "      <td>33.184965</td>\n",
       "      <td>-108.283899</td>\n",
       "      <td>32.704849</td>\n",
       "      <td>-87.909003</td>\n",
       "      <td>1182.481804</td>\n",
       "      <td>2619.567815</td>\n",
       "    </tr>\n",
       "    <tr>\n",
       "      <th>1</th>\n",
       "      <td>plant_10</td>\n",
       "      <td>customer_2229</td>\n",
       "      <td>33.692519</td>\n",
       "      <td>-94.508827</td>\n",
       "      <td>36.265853</td>\n",
       "      <td>-90.353542</td>\n",
       "      <td>294.994133</td>\n",
       "      <td>673.189326</td>\n",
       "    </tr>\n",
       "    <tr>\n",
       "      <th>2</th>\n",
       "      <td>plant_13</td>\n",
       "      <td>customer_3429</td>\n",
       "      <td>34.698649</td>\n",
       "      <td>-93.802288</td>\n",
       "      <td>37.671933</td>\n",
       "      <td>-82.035654</td>\n",
       "      <td>688.322231</td>\n",
       "      <td>1535.810153</td>\n",
       "    </tr>\n",
       "    <tr>\n",
       "      <th>3</th>\n",
       "      <td>plant_14</td>\n",
       "      <td>customer_1392</td>\n",
       "      <td>34.542425</td>\n",
       "      <td>-85.739381</td>\n",
       "      <td>33.647213</td>\n",
       "      <td>-88.087360</td>\n",
       "      <td>148.096215</td>\n",
       "      <td>351.022656</td>\n",
       "    </tr>\n",
       "    <tr>\n",
       "      <th>4</th>\n",
       "      <td>plant_14</td>\n",
       "      <td>customer_2576</td>\n",
       "      <td>34.542425</td>\n",
       "      <td>-85.739381</td>\n",
       "      <td>34.801664</td>\n",
       "      <td>-96.070249</td>\n",
       "      <td>588.346692</td>\n",
       "      <td>1316.550499</td>\n",
       "    </tr>\n",
       "  </tbody>\n",
       "</table>\n",
       "</div>"
      ],
      "text/plain": [
       "  plant_number customer_number  plant_lat  plant_long  customer_lat  \\\n",
       "0      plant_6   customer_1439  33.184965 -108.283899     32.704849   \n",
       "1     plant_10   customer_2229  33.692519  -94.508827     36.265853   \n",
       "2     plant_13   customer_3429  34.698649  -93.802288     37.671933   \n",
       "3     plant_14   customer_1392  34.542425  -85.739381     33.647213   \n",
       "4     plant_14   customer_2576  34.542425  -85.739381     34.801664   \n",
       "\n",
       "   customer_long  geo_distance     distance  \n",
       "0     -87.909003   1182.481804  2619.567815  \n",
       "1     -90.353542    294.994133   673.189326  \n",
       "2     -82.035654    688.322231  1535.810153  \n",
       "3     -88.087360    148.096215   351.022656  \n",
       "4     -96.070249    588.346692  1316.550499  "
      ]
     },
     "execution_count": 118,
     "metadata": {},
     "output_type": "execute_result"
    }
   ],
   "source": [
    "unavailable.head()"
   ]
  },
  {
   "cell_type": "code",
   "execution_count": 119,
   "id": "905b0b6f",
   "metadata": {},
   "outputs": [],
   "source": [
    "for_submit = unavailable[['plant_number', 'customer_number', 'distance']]"
   ]
  },
  {
   "cell_type": "code",
   "execution_count": 120,
   "id": "79fe6f65",
   "metadata": {},
   "outputs": [],
   "source": [
    "for_submit.to_excel('report.xlsx', index=False)"
   ]
  },
  {
   "cell_type": "code",
   "execution_count": null,
   "id": "2f0dc539",
   "metadata": {},
   "outputs": [],
   "source": []
  }
 ],
 "metadata": {
  "kernelspec": {
   "display_name": "Python 3",
   "language": "python",
   "name": "python3"
  },
  "language_info": {
   "codemirror_mode": {
    "name": "ipython",
    "version": 3
   },
   "file_extension": ".py",
   "mimetype": "text/x-python",
   "name": "python",
   "nbconvert_exporter": "python",
   "pygments_lexer": "ipython3",
   "version": "3.8.8"
  }
 },
 "nbformat": 4,
 "nbformat_minor": 5
}
