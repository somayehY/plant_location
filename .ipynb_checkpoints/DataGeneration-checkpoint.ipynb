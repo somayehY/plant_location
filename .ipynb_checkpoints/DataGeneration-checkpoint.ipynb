{
 "cells": [
  {
   "cell_type": "code",
   "execution_count": 1,
   "id": "562f58a9",
   "metadata": {},
   "outputs": [],
   "source": [
    "import pandas as pd\n",
    "import numpy as np\n",
    "import random\n",
    "from shapely.geometry import Polygon, Point\n"
   ]
  },
  {
   "cell_type": "code",
   "execution_count": 2,
   "id": "4070b16c",
   "metadata": {},
   "outputs": [],
   "source": [
    "poly_plants = Polygon([(39.0802554,-77.1238274), (48.054688, -92.827392), (39.284834, -78.799124), (31.737562, -85.880060),\\\n",
    "                (32.754505, -111.197743), (39.0802554,-77.1238274)])\n"
   ]
  },
  {
   "cell_type": "code",
   "execution_count": 3,
   "id": "18df3462",
   "metadata": {},
   "outputs": [],
   "source": [
    "poly_customers = Polygon([(47.959757, -123.189556), (48.622836, -95.616488), (47.662288, -90.965609), (46.302564, -91.187080),\\\n",
    "                        (45.764435, -87.532818), (41.685626, -88.086494), (41.685626, -85.982525), (44.986585, -84.764437),\\\n",
    "                        (41.020646, -82.660468), (48.549586, -66.714597), (44.829731, -68.043420), (39.157058, -78.009589),\\\n",
    "                        (32.100615, -82.051424), (28.516603, -81.220910), (31.299803, -86.148627), (29.243820, -98.329501),\\\n",
    "                        (35.233386, -117.708163), (47.959757, -123.189556)])"
   ]
  },
  {
   "cell_type": "code",
   "execution_count": 4,
   "id": "42d5cd76",
   "metadata": {},
   "outputs": [],
   "source": [
    "def random_location(poly, number):\n",
    "    min_lat, min_long, max_lat, max_long = poly.bounds\n",
    "    points = []\n",
    "    while len(points) < number:\n",
    "            lat = random.uniform(min_lat, max_lat)\n",
    "            long = random.uniform(min_long, max_long)\n",
    "            random_point = Point(lat, long)\n",
    "            if (random_point.within(poly)):\n",
    "                points.append([lat, long])\n",
    "    return points"
   ]
  },
  {
   "cell_type": "code",
   "execution_count": 5,
   "id": "5fc44605",
   "metadata": {},
   "outputs": [],
   "source": [
    "\n",
    "plant_locations = random_location(poly_plants,20)\n"
   ]
  },
  {
   "cell_type": "code",
   "execution_count": 6,
   "id": "e60bf240",
   "metadata": {},
   "outputs": [],
   "source": [
    "customer_locations = random_location(poly_plants,5000)"
   ]
  },
  {
   "cell_type": "code",
   "execution_count": 7,
   "id": "e0ec9ed6",
   "metadata": {},
   "outputs": [
    {
     "data": {
      "text/html": [
       "<div>\n",
       "<style scoped>\n",
       "    .dataframe tbody tr th:only-of-type {\n",
       "        vertical-align: middle;\n",
       "    }\n",
       "\n",
       "    .dataframe tbody tr th {\n",
       "        vertical-align: top;\n",
       "    }\n",
       "\n",
       "    .dataframe thead th {\n",
       "        text-align: right;\n",
       "    }\n",
       "</style>\n",
       "<table border=\"1\" class=\"dataframe\">\n",
       "  <thead>\n",
       "    <tr style=\"text-align: right;\">\n",
       "      <th></th>\n",
       "      <th>plant_number</th>\n",
       "      <th>latitude</th>\n",
       "      <th>longitude</th>\n",
       "    </tr>\n",
       "  </thead>\n",
       "  <tbody>\n",
       "    <tr>\n",
       "      <th>0</th>\n",
       "      <td>plant_1</td>\n",
       "      <td>33.415172</td>\n",
       "      <td>-86.230904</td>\n",
       "    </tr>\n",
       "    <tr>\n",
       "      <th>1</th>\n",
       "      <td>plant_2</td>\n",
       "      <td>35.275113</td>\n",
       "      <td>-92.471814</td>\n",
       "    </tr>\n",
       "    <tr>\n",
       "      <th>2</th>\n",
       "      <td>plant_3</td>\n",
       "      <td>41.225687</td>\n",
       "      <td>-81.416651</td>\n",
       "    </tr>\n",
       "    <tr>\n",
       "      <th>3</th>\n",
       "      <td>plant_4</td>\n",
       "      <td>34.707729</td>\n",
       "      <td>-91.674426</td>\n",
       "    </tr>\n",
       "    <tr>\n",
       "      <th>4</th>\n",
       "      <td>plant_5</td>\n",
       "      <td>34.088075</td>\n",
       "      <td>-89.644492</td>\n",
       "    </tr>\n",
       "    <tr>\n",
       "      <th>5</th>\n",
       "      <td>plant_6</td>\n",
       "      <td>33.184965</td>\n",
       "      <td>-108.283899</td>\n",
       "    </tr>\n",
       "    <tr>\n",
       "      <th>6</th>\n",
       "      <td>plant_7</td>\n",
       "      <td>36.162604</td>\n",
       "      <td>-90.194118</td>\n",
       "    </tr>\n",
       "    <tr>\n",
       "      <th>7</th>\n",
       "      <td>plant_8</td>\n",
       "      <td>38.149640</td>\n",
       "      <td>-81.480519</td>\n",
       "    </tr>\n",
       "    <tr>\n",
       "      <th>8</th>\n",
       "      <td>plant_9</td>\n",
       "      <td>38.947328</td>\n",
       "      <td>-78.431934</td>\n",
       "    </tr>\n",
       "    <tr>\n",
       "      <th>9</th>\n",
       "      <td>plant_10</td>\n",
       "      <td>33.692519</td>\n",
       "      <td>-94.508827</td>\n",
       "    </tr>\n",
       "    <tr>\n",
       "      <th>10</th>\n",
       "      <td>plant_11</td>\n",
       "      <td>36.615485</td>\n",
       "      <td>-83.888882</td>\n",
       "    </tr>\n",
       "    <tr>\n",
       "      <th>11</th>\n",
       "      <td>plant_12</td>\n",
       "      <td>33.818729</td>\n",
       "      <td>-97.364856</td>\n",
       "    </tr>\n",
       "    <tr>\n",
       "      <th>12</th>\n",
       "      <td>plant_13</td>\n",
       "      <td>34.698649</td>\n",
       "      <td>-93.802288</td>\n",
       "    </tr>\n",
       "    <tr>\n",
       "      <th>13</th>\n",
       "      <td>plant_14</td>\n",
       "      <td>34.542425</td>\n",
       "      <td>-85.739381</td>\n",
       "    </tr>\n",
       "    <tr>\n",
       "      <th>14</th>\n",
       "      <td>plant_15</td>\n",
       "      <td>32.932236</td>\n",
       "      <td>-104.929610</td>\n",
       "    </tr>\n",
       "    <tr>\n",
       "      <th>15</th>\n",
       "      <td>plant_16</td>\n",
       "      <td>34.305940</td>\n",
       "      <td>-101.520559</td>\n",
       "    </tr>\n",
       "    <tr>\n",
       "      <th>16</th>\n",
       "      <td>plant_17</td>\n",
       "      <td>35.016907</td>\n",
       "      <td>-94.337103</td>\n",
       "    </tr>\n",
       "    <tr>\n",
       "      <th>17</th>\n",
       "      <td>plant_18</td>\n",
       "      <td>34.409579</td>\n",
       "      <td>-89.718862</td>\n",
       "    </tr>\n",
       "    <tr>\n",
       "      <th>18</th>\n",
       "      <td>plant_19</td>\n",
       "      <td>35.085034</td>\n",
       "      <td>-96.007581</td>\n",
       "    </tr>\n",
       "    <tr>\n",
       "      <th>19</th>\n",
       "      <td>plant_20</td>\n",
       "      <td>34.969127</td>\n",
       "      <td>-96.306771</td>\n",
       "    </tr>\n",
       "  </tbody>\n",
       "</table>\n",
       "</div>"
      ],
      "text/plain": [
       "   plant_number   latitude   longitude\n",
       "0       plant_1  33.415172  -86.230904\n",
       "1       plant_2  35.275113  -92.471814\n",
       "2       plant_3  41.225687  -81.416651\n",
       "3       plant_4  34.707729  -91.674426\n",
       "4       plant_5  34.088075  -89.644492\n",
       "5       plant_6  33.184965 -108.283899\n",
       "6       plant_7  36.162604  -90.194118\n",
       "7       plant_8  38.149640  -81.480519\n",
       "8       plant_9  38.947328  -78.431934\n",
       "9      plant_10  33.692519  -94.508827\n",
       "10     plant_11  36.615485  -83.888882\n",
       "11     plant_12  33.818729  -97.364856\n",
       "12     plant_13  34.698649  -93.802288\n",
       "13     plant_14  34.542425  -85.739381\n",
       "14     plant_15  32.932236 -104.929610\n",
       "15     plant_16  34.305940 -101.520559\n",
       "16     plant_17  35.016907  -94.337103\n",
       "17     plant_18  34.409579  -89.718862\n",
       "18     plant_19  35.085034  -96.007581\n",
       "19     plant_20  34.969127  -96.306771"
      ]
     },
     "execution_count": 7,
     "metadata": {},
     "output_type": "execute_result"
    }
   ],
   "source": [
    "plants = pd.DataFrame(plant_locations, columns=['latitude', 'longitude'])\n",
    "plants['plant_number'] = ['plant_'+str(x+1) for x in plants.index]\n",
    "plants = plants[['plant_number', 'latitude', 'longitude']]\n",
    "plants"
   ]
  },
  {
   "cell_type": "code",
   "execution_count": 8,
   "id": "9deb146a",
   "metadata": {},
   "outputs": [
    {
     "data": {
      "text/html": [
       "<div>\n",
       "<style scoped>\n",
       "    .dataframe tbody tr th:only-of-type {\n",
       "        vertical-align: middle;\n",
       "    }\n",
       "\n",
       "    .dataframe tbody tr th {\n",
       "        vertical-align: top;\n",
       "    }\n",
       "\n",
       "    .dataframe thead th {\n",
       "        text-align: right;\n",
       "    }\n",
       "</style>\n",
       "<table border=\"1\" class=\"dataframe\">\n",
       "  <thead>\n",
       "    <tr style=\"text-align: right;\">\n",
       "      <th></th>\n",
       "      <th>customer_number</th>\n",
       "      <th>latitude</th>\n",
       "      <th>longitude</th>\n",
       "    </tr>\n",
       "  </thead>\n",
       "  <tbody>\n",
       "    <tr>\n",
       "      <th>0</th>\n",
       "      <td>customer_1</td>\n",
       "      <td>33.277181</td>\n",
       "      <td>-97.982051</td>\n",
       "    </tr>\n",
       "    <tr>\n",
       "      <th>1</th>\n",
       "      <td>customer_2</td>\n",
       "      <td>45.075334</td>\n",
       "      <td>-87.906426</td>\n",
       "    </tr>\n",
       "    <tr>\n",
       "      <th>2</th>\n",
       "      <td>customer_3</td>\n",
       "      <td>33.837430</td>\n",
       "      <td>-95.934696</td>\n",
       "    </tr>\n",
       "    <tr>\n",
       "      <th>3</th>\n",
       "      <td>customer_4</td>\n",
       "      <td>33.362368</td>\n",
       "      <td>-86.999961</td>\n",
       "    </tr>\n",
       "    <tr>\n",
       "      <th>4</th>\n",
       "      <td>customer_5</td>\n",
       "      <td>42.997963</td>\n",
       "      <td>-84.409003</td>\n",
       "    </tr>\n",
       "  </tbody>\n",
       "</table>\n",
       "</div>"
      ],
      "text/plain": [
       "  customer_number   latitude  longitude\n",
       "0      customer_1  33.277181 -97.982051\n",
       "1      customer_2  45.075334 -87.906426\n",
       "2      customer_3  33.837430 -95.934696\n",
       "3      customer_4  33.362368 -86.999961\n",
       "4      customer_5  42.997963 -84.409003"
      ]
     },
     "execution_count": 8,
     "metadata": {},
     "output_type": "execute_result"
    }
   ],
   "source": [
    "customers = pd.DataFrame(customer_locations, columns=['latitude', 'longitude'])\n",
    "customers['customer_number'] = ['customer_'+str(x+1) for x in customers.index]\n",
    "customers = customers[['customer_number', 'latitude', 'longitude']]\n",
    "customers.head()"
   ]
  },
  {
   "cell_type": "code",
   "execution_count": 9,
   "id": "6f119625",
   "metadata": {},
   "outputs": [],
   "source": [
    "from geopy.distance import great_circle as GRC"
   ]
  },
  {
   "cell_type": "code",
   "execution_count": 54,
   "id": "29a05fac",
   "metadata": {},
   "outputs": [],
   "source": [
    "results = []\n",
    "\n",
    "for index1, row1 in plants.iterrows():\n",
    "    for index2, row2 in customers.iterrows():\n",
    "        point1 = [row1['latitude'], row1['longitude']]\n",
    "        point2 = [row2['latitude'], row2['longitude']]\n",
    "        results.append([row1['plant_number'], row2['customer_number'], GRC(point1, point2).miles])\n",
    "        "
   ]
  },
  {
   "cell_type": "code",
   "execution_count": 55,
   "id": "da5e0972",
   "metadata": {},
   "outputs": [],
   "source": [
    "history = pd.DataFrame(results, columns=['plant', 'customer', 'distance'])"
   ]
  },
  {
   "cell_type": "code",
   "execution_count": 56,
   "id": "e70c6fea",
   "metadata": {},
   "outputs": [],
   "source": [
    "history['random1'] = [random.uniform(1.2, 1.7) for i in range(len(history))]\n",
    "history['random2'] = [random.uniform(2, 3) for i in range(len(history))]\n",
    "history['random3'] = [random.uniform(1.3, 4) for i in range(len(history))]"
   ]
  },
  {
   "cell_type": "code",
   "execution_count": 57,
   "id": "5a5fb06d",
   "metadata": {},
   "outputs": [],
   "source": [
    "history['random11'] = [random.uniform(0,30) for i in range(len(history))]\n",
    "history['random22'] = [random.uniform(12,22) for i in range(len(history))]\n",
    "history['random33'] = [random.uniform(-20,100) for i in range(len(history))]"
   ]
  },
  {
   "cell_type": "code",
   "execution_count": 58,
   "id": "be1d5c02",
   "metadata": {},
   "outputs": [],
   "source": [
    "history['distance1'] = history['random1']*history['distance'] + history['random11']\n",
    "history['distance2'] = history['random2']*history['distance'] + history['random22']\n",
    "history['distance3'] = history['random3']*history['distance'] + history['random33']"
   ]
  },
  {
   "cell_type": "code",
   "execution_count": 59,
   "id": "3fc53bbe",
   "metadata": {},
   "outputs": [
    {
     "data": {
      "text/plain": [
       "(100000, 12)"
      ]
     },
     "execution_count": 59,
     "metadata": {},
     "output_type": "execute_result"
    }
   ],
   "source": [
    "history.shape"
   ]
  },
  {
   "cell_type": "code",
   "execution_count": 60,
   "id": "0de74d9c",
   "metadata": {},
   "outputs": [],
   "source": [
    "history['number'] = history.index"
   ]
  },
  {
   "cell_type": "code",
   "execution_count": 61,
   "id": "1a8cd764",
   "metadata": {},
   "outputs": [],
   "source": [
    "index_list = [i for i in range(99999)]\n",
    "pop_list = []"
   ]
  },
  {
   "cell_type": "code",
   "execution_count": 62,
   "id": "87333c5f",
   "metadata": {},
   "outputs": [],
   "source": [
    "\n",
    "while len(pop_list)<72555:\n",
    "    a = random.randint(0,len(index_list)-1)\n",
    "    #print(a)\n",
    "    b = index_list[a]\n",
    "    pop_list.append(b)\n",
    "    #print('poplist', pop_list)\n",
    "    index_list.remove(b)\n",
    "    \n",
    "    #print('index', index_list)\n",
    "    \n",
    "    \n",
    "\n",
    "    "
   ]
  },
  {
   "cell_type": "code",
   "execution_count": 63,
   "id": "60cc6548",
   "metadata": {},
   "outputs": [
    {
     "data": {
      "text/plain": [
       "72555"
      ]
     },
     "execution_count": 63,
     "metadata": {},
     "output_type": "execute_result"
    }
   ],
   "source": [
    "len(pop_list)"
   ]
  },
  {
   "cell_type": "code",
   "execution_count": 64,
   "id": "72d8eee5",
   "metadata": {},
   "outputs": [
    {
     "name": "stdout",
     "output_type": "stream",
     "text": [
      "1\n",
      "99997\n"
     ]
    }
   ],
   "source": [
    "print(sorted(pop_list)[0])\n",
    "print(sorted(pop_list)[-1])"
   ]
  },
  {
   "cell_type": "code",
   "execution_count": 65,
   "id": "cb5dcc32",
   "metadata": {},
   "outputs": [
    {
     "data": {
      "text/plain": [
       "(27445, 13)"
      ]
     },
     "execution_count": 65,
     "metadata": {},
     "output_type": "execute_result"
    }
   ],
   "source": [
    "history = history[~history['number'].isin(pop_list)]\n",
    "history.shape"
   ]
  },
  {
   "cell_type": "code",
   "execution_count": 66,
   "id": "e918d6be",
   "metadata": {},
   "outputs": [],
   "source": [
    "history.drop(columns=['random1', 'random2', 'random3', 'random11', 'random22', 'random33', 'number', 'distance'], inplace=True)"
   ]
  },
  {
   "cell_type": "code",
   "execution_count": 67,
   "id": "dca7d8e7",
   "metadata": {},
   "outputs": [],
   "source": [
    "history.reset_index(inplace=True, drop=True)"
   ]
  },
  {
   "cell_type": "code",
   "execution_count": 68,
   "id": "2ad90e9d",
   "metadata": {},
   "outputs": [
    {
     "data": {
      "text/html": [
       "<div>\n",
       "<style scoped>\n",
       "    .dataframe tbody tr th:only-of-type {\n",
       "        vertical-align: middle;\n",
       "    }\n",
       "\n",
       "    .dataframe tbody tr th {\n",
       "        vertical-align: top;\n",
       "    }\n",
       "\n",
       "    .dataframe thead th {\n",
       "        text-align: right;\n",
       "    }\n",
       "</style>\n",
       "<table border=\"1\" class=\"dataframe\">\n",
       "  <thead>\n",
       "    <tr style=\"text-align: right;\">\n",
       "      <th></th>\n",
       "      <th>plant</th>\n",
       "      <th>customer</th>\n",
       "      <th>distance1</th>\n",
       "      <th>distance2</th>\n",
       "      <th>distance3</th>\n",
       "    </tr>\n",
       "  </thead>\n",
       "  <tbody>\n",
       "    <tr>\n",
       "      <th>0</th>\n",
       "      <td>plant_1</td>\n",
       "      <td>customer_1</td>\n",
       "      <td>1022.538892</td>\n",
       "      <td>1909.071326</td>\n",
       "      <td>1804.490045</td>\n",
       "    </tr>\n",
       "    <tr>\n",
       "      <th>1</th>\n",
       "      <td>plant_1</td>\n",
       "      <td>customer_4</td>\n",
       "      <td>79.792130</td>\n",
       "      <td>113.169995</td>\n",
       "      <td>122.108886</td>\n",
       "    </tr>\n",
       "    <tr>\n",
       "      <th>2</th>\n",
       "      <td>plant_1</td>\n",
       "      <td>customer_5</td>\n",
       "      <td>1078.192940</td>\n",
       "      <td>1722.460238</td>\n",
       "      <td>2546.346183</td>\n",
       "    </tr>\n",
       "    <tr>\n",
       "      <th>3</th>\n",
       "      <td>plant_1</td>\n",
       "      <td>customer_9</td>\n",
       "      <td>437.484709</td>\n",
       "      <td>718.872605</td>\n",
       "      <td>952.808488</td>\n",
       "    </tr>\n",
       "    <tr>\n",
       "      <th>4</th>\n",
       "      <td>plant_1</td>\n",
       "      <td>customer_10</td>\n",
       "      <td>970.980839</td>\n",
       "      <td>2023.114377</td>\n",
       "      <td>2563.629101</td>\n",
       "    </tr>\n",
       "  </tbody>\n",
       "</table>\n",
       "</div>"
      ],
      "text/plain": [
       "     plant     customer    distance1    distance2    distance3\n",
       "0  plant_1   customer_1  1022.538892  1909.071326  1804.490045\n",
       "1  plant_1   customer_4    79.792130   113.169995   122.108886\n",
       "2  plant_1   customer_5  1078.192940  1722.460238  2546.346183\n",
       "3  plant_1   customer_9   437.484709   718.872605   952.808488\n",
       "4  plant_1  customer_10   970.980839  2023.114377  2563.629101"
      ]
     },
     "execution_count": 68,
     "metadata": {},
     "output_type": "execute_result"
    }
   ],
   "source": [
    "history.head()"
   ]
  },
  {
   "cell_type": "code",
   "execution_count": 69,
   "id": "e2ff70dd",
   "metadata": {},
   "outputs": [],
   "source": [
    "history.to_csv('historicdata.csv', index=False)"
   ]
  },
  {
   "cell_type": "code",
   "execution_count": 70,
   "id": "cf75d48f",
   "metadata": {},
   "outputs": [],
   "source": [
    "plants.to_csv('plants.csv', index=False)\n",
    "customers.to_csv('customers.csv', index=False)"
   ]
  },
  {
   "cell_type": "code",
   "execution_count": null,
   "id": "492a8e82",
   "metadata": {},
   "outputs": [],
   "source": []
  }
 ],
 "metadata": {
  "kernelspec": {
   "display_name": "Python 3",
   "language": "python",
   "name": "python3"
  },
  "language_info": {
   "codemirror_mode": {
    "name": "ipython",
    "version": 3
   },
   "file_extension": ".py",
   "mimetype": "text/x-python",
   "name": "python",
   "nbconvert_exporter": "python",
   "pygments_lexer": "ipython3",
   "version": "3.8.8"
  }
 },
 "nbformat": 4,
 "nbformat_minor": 5
}
