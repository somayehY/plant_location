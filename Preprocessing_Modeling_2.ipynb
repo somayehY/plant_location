{
 "cells": [
  {
   "cell_type": "markdown",
   "id": "f6e69bcd",
   "metadata": {},
   "source": [
    "The question that I try to answer here, is to find a simple model to predict truck travelled distance between two locations based on the shortest distance between them. The data that we have is a csv file of the location of plants, a csv file of customer's location. A csv file of historic travels between plants and customers. We want to predict the distance for those pairs we do not have data for.\n"
   ]
  },
  {
   "cell_type": "markdown",
   "id": "6a635c87",
   "metadata": {},
   "source": [
    "## Import libraries"
   ]
  },
  {
   "cell_type": "code",
   "execution_count": 1,
   "id": "94821030",
   "metadata": {},
   "outputs": [],
   "source": [
    "import pandas as pd\n",
    "import numpy as np\n",
    "\n",
    "from geopy.distance import distance\n",
    "import matplotlib.pyplot as plt\n",
    "import seaborn as sns\n",
    "\n",
    "from sklearn.linear_model import LinearRegression\n",
    "from sklearn.metrics import r2_score, mean_squared_error, mean_absolute_error\n",
    "from sklearn.model_selection import train_test_split, cross_validate, GridSearchCV, KFold, cross_val_predict"
   ]
  },
  {
   "cell_type": "markdown",
   "id": "fc934079",
   "metadata": {},
   "source": [
    "## Import data files"
   ]
  },
  {
   "cell_type": "code",
   "execution_count": 2,
   "id": "e54f585a",
   "metadata": {},
   "outputs": [
    {
     "data": {
      "text/html": [
       "<div>\n",
       "<style scoped>\n",
       "    .dataframe tbody tr th:only-of-type {\n",
       "        vertical-align: middle;\n",
       "    }\n",
       "\n",
       "    .dataframe tbody tr th {\n",
       "        vertical-align: top;\n",
       "    }\n",
       "\n",
       "    .dataframe thead th {\n",
       "        text-align: right;\n",
       "    }\n",
       "</style>\n",
       "<table border=\"1\" class=\"dataframe\">\n",
       "  <thead>\n",
       "    <tr style=\"text-align: right;\">\n",
       "      <th></th>\n",
       "      <th>plant</th>\n",
       "      <th>lat_plant</th>\n",
       "      <th>lon_plant</th>\n",
       "    </tr>\n",
       "  </thead>\n",
       "  <tbody>\n",
       "    <tr>\n",
       "      <th>0</th>\n",
       "      <td>plant_1</td>\n",
       "      <td>42.142478</td>\n",
       "      <td>-82.767944</td>\n",
       "    </tr>\n",
       "    <tr>\n",
       "      <th>1</th>\n",
       "      <td>plant_2</td>\n",
       "      <td>34.240845</td>\n",
       "      <td>-91.383426</td>\n",
       "    </tr>\n",
       "    <tr>\n",
       "      <th>2</th>\n",
       "      <td>plant_3</td>\n",
       "      <td>32.765674</td>\n",
       "      <td>-92.726484</td>\n",
       "    </tr>\n",
       "    <tr>\n",
       "      <th>3</th>\n",
       "      <td>plant_4</td>\n",
       "      <td>34.761577</td>\n",
       "      <td>-98.483023</td>\n",
       "    </tr>\n",
       "    <tr>\n",
       "      <th>4</th>\n",
       "      <td>plant_5</td>\n",
       "      <td>33.125264</td>\n",
       "      <td>-99.225366</td>\n",
       "    </tr>\n",
       "  </tbody>\n",
       "</table>\n",
       "</div>"
      ],
      "text/plain": [
       "     plant  lat_plant  lon_plant\n",
       "0  plant_1  42.142478 -82.767944\n",
       "1  plant_2  34.240845 -91.383426\n",
       "2  plant_3  32.765674 -92.726484\n",
       "3  plant_4  34.761577 -98.483023\n",
       "4  plant_5  33.125264 -99.225366"
      ]
     },
     "execution_count": 2,
     "metadata": {},
     "output_type": "execute_result"
    }
   ],
   "source": [
    "plants = pd.read_csv('plants2.csv')\n",
    "plants.head()"
   ]
  },
  {
   "cell_type": "code",
   "execution_count": 3,
   "id": "d3fe0646",
   "metadata": {},
   "outputs": [
    {
     "data": {
      "text/html": [
       "<div>\n",
       "<style scoped>\n",
       "    .dataframe tbody tr th:only-of-type {\n",
       "        vertical-align: middle;\n",
       "    }\n",
       "\n",
       "    .dataframe tbody tr th {\n",
       "        vertical-align: top;\n",
       "    }\n",
       "\n",
       "    .dataframe thead th {\n",
       "        text-align: right;\n",
       "    }\n",
       "</style>\n",
       "<table border=\"1\" class=\"dataframe\">\n",
       "  <thead>\n",
       "    <tr style=\"text-align: right;\">\n",
       "      <th></th>\n",
       "      <th>customer</th>\n",
       "      <th>lat_cust</th>\n",
       "      <th>lon_cust</th>\n",
       "      <th>cust_loc</th>\n",
       "    </tr>\n",
       "  </thead>\n",
       "  <tbody>\n",
       "    <tr>\n",
       "      <th>0</th>\n",
       "      <td>customer_1</td>\n",
       "      <td>33.119610</td>\n",
       "      <td>-97.400205</td>\n",
       "      <td>[-97.40020548679664, 33.119610297337566]</td>\n",
       "    </tr>\n",
       "    <tr>\n",
       "      <th>1</th>\n",
       "      <td>customer_2</td>\n",
       "      <td>34.045329</td>\n",
       "      <td>-104.146559</td>\n",
       "      <td>[-104.14655867535417, 34.045328769219594]</td>\n",
       "    </tr>\n",
       "    <tr>\n",
       "      <th>2</th>\n",
       "      <td>customer_3</td>\n",
       "      <td>38.008776</td>\n",
       "      <td>-81.852771</td>\n",
       "      <td>[-81.85277146802052, 38.00877605660633]</td>\n",
       "    </tr>\n",
       "    <tr>\n",
       "      <th>3</th>\n",
       "      <td>customer_4</td>\n",
       "      <td>33.648772</td>\n",
       "      <td>-86.025302</td>\n",
       "      <td>[-86.02530175312035, 33.648771968569385]</td>\n",
       "    </tr>\n",
       "    <tr>\n",
       "      <th>4</th>\n",
       "      <td>customer_5</td>\n",
       "      <td>32.648383</td>\n",
       "      <td>-104.643170</td>\n",
       "      <td>[-104.64316989524293, 32.64838291798267]</td>\n",
       "    </tr>\n",
       "  </tbody>\n",
       "</table>\n",
       "</div>"
      ],
      "text/plain": [
       "     customer   lat_cust    lon_cust  \\\n",
       "0  customer_1  33.119610  -97.400205   \n",
       "1  customer_2  34.045329 -104.146559   \n",
       "2  customer_3  38.008776  -81.852771   \n",
       "3  customer_4  33.648772  -86.025302   \n",
       "4  customer_5  32.648383 -104.643170   \n",
       "\n",
       "                                    cust_loc  \n",
       "0   [-97.40020548679664, 33.119610297337566]  \n",
       "1  [-104.14655867535417, 34.045328769219594]  \n",
       "2    [-81.85277146802052, 38.00877605660633]  \n",
       "3   [-86.02530175312035, 33.648771968569385]  \n",
       "4   [-104.64316989524293, 32.64838291798267]  "
      ]
     },
     "execution_count": 3,
     "metadata": {},
     "output_type": "execute_result"
    }
   ],
   "source": [
    "customers = pd.read_csv('customers2.csv')\n",
    "customers.head()"
   ]
  },
  {
   "cell_type": "code",
   "execution_count": 4,
   "id": "b7d36bc0",
   "metadata": {},
   "outputs": [
    {
     "data": {
      "text/html": [
       "<div>\n",
       "<style scoped>\n",
       "    .dataframe tbody tr th:only-of-type {\n",
       "        vertical-align: middle;\n",
       "    }\n",
       "\n",
       "    .dataframe tbody tr th {\n",
       "        vertical-align: top;\n",
       "    }\n",
       "\n",
       "    .dataframe thead th {\n",
       "        text-align: right;\n",
       "    }\n",
       "</style>\n",
       "<table border=\"1\" class=\"dataframe\">\n",
       "  <thead>\n",
       "    <tr style=\"text-align: right;\">\n",
       "      <th></th>\n",
       "      <th>plant</th>\n",
       "      <th>customer</th>\n",
       "      <th>distance</th>\n",
       "    </tr>\n",
       "  </thead>\n",
       "  <tbody>\n",
       "    <tr>\n",
       "      <th>0</th>\n",
       "      <td>plant_1</td>\n",
       "      <td>customer_1</td>\n",
       "      <td>843.18</td>\n",
       "    </tr>\n",
       "    <tr>\n",
       "      <th>1</th>\n",
       "      <td>plant_1</td>\n",
       "      <td>customer_2</td>\n",
       "      <td>1252.82</td>\n",
       "    </tr>\n",
       "    <tr>\n",
       "      <th>2</th>\n",
       "      <td>plant_1</td>\n",
       "      <td>customer_5</td>\n",
       "      <td>1304.46</td>\n",
       "    </tr>\n",
       "    <tr>\n",
       "      <th>3</th>\n",
       "      <td>plant_1</td>\n",
       "      <td>customer_14</td>\n",
       "      <td>901.05</td>\n",
       "    </tr>\n",
       "    <tr>\n",
       "      <th>4</th>\n",
       "      <td>plant_1</td>\n",
       "      <td>customer_15</td>\n",
       "      <td>510.35</td>\n",
       "    </tr>\n",
       "  </tbody>\n",
       "</table>\n",
       "</div>"
      ],
      "text/plain": [
       "     plant     customer  distance\n",
       "0  plant_1   customer_1    843.18\n",
       "1  plant_1   customer_2   1252.82\n",
       "2  plant_1   customer_5   1304.46\n",
       "3  plant_1  customer_14    901.05\n",
       "4  plant_1  customer_15    510.35"
      ]
     },
     "execution_count": 4,
     "metadata": {},
     "output_type": "execute_result"
    }
   ],
   "source": [
    "df = pd.read_csv('historic_data.csv')\n",
    "df.head()"
   ]
  },
  {
   "cell_type": "markdown",
   "id": "8377f7be",
   "metadata": {},
   "source": [
    "## Data cleaning"
   ]
  },
  {
   "cell_type": "markdown",
   "id": "183d7e2b",
   "metadata": {},
   "source": [
    "Let's find average of historic milages and add the location of plants and customers"
   ]
  },
  {
   "cell_type": "code",
   "execution_count": 5,
   "id": "8d643f7e",
   "metadata": {},
   "outputs": [
    {
     "data": {
      "text/html": [
       "<div>\n",
       "<style scoped>\n",
       "    .dataframe tbody tr th:only-of-type {\n",
       "        vertical-align: middle;\n",
       "    }\n",
       "\n",
       "    .dataframe tbody tr th {\n",
       "        vertical-align: top;\n",
       "    }\n",
       "\n",
       "    .dataframe thead th {\n",
       "        text-align: right;\n",
       "    }\n",
       "</style>\n",
       "<table border=\"1\" class=\"dataframe\">\n",
       "  <thead>\n",
       "    <tr style=\"text-align: right;\">\n",
       "      <th></th>\n",
       "      <th>plant</th>\n",
       "      <th>customer</th>\n",
       "      <th>distance</th>\n",
       "      <th>lat_plant</th>\n",
       "      <th>lon_plant</th>\n",
       "    </tr>\n",
       "  </thead>\n",
       "  <tbody>\n",
       "    <tr>\n",
       "      <th>0</th>\n",
       "      <td>plant_1</td>\n",
       "      <td>customer_1</td>\n",
       "      <td>843.18</td>\n",
       "      <td>42.142478</td>\n",
       "      <td>-82.767944</td>\n",
       "    </tr>\n",
       "    <tr>\n",
       "      <th>1</th>\n",
       "      <td>plant_1</td>\n",
       "      <td>customer_2</td>\n",
       "      <td>1252.82</td>\n",
       "      <td>42.142478</td>\n",
       "      <td>-82.767944</td>\n",
       "    </tr>\n",
       "    <tr>\n",
       "      <th>2</th>\n",
       "      <td>plant_1</td>\n",
       "      <td>customer_5</td>\n",
       "      <td>1304.46</td>\n",
       "      <td>42.142478</td>\n",
       "      <td>-82.767944</td>\n",
       "    </tr>\n",
       "    <tr>\n",
       "      <th>3</th>\n",
       "      <td>plant_1</td>\n",
       "      <td>customer_14</td>\n",
       "      <td>901.05</td>\n",
       "      <td>42.142478</td>\n",
       "      <td>-82.767944</td>\n",
       "    </tr>\n",
       "    <tr>\n",
       "      <th>4</th>\n",
       "      <td>plant_1</td>\n",
       "      <td>customer_15</td>\n",
       "      <td>510.35</td>\n",
       "      <td>42.142478</td>\n",
       "      <td>-82.767944</td>\n",
       "    </tr>\n",
       "  </tbody>\n",
       "</table>\n",
       "</div>"
      ],
      "text/plain": [
       "     plant     customer  distance  lat_plant  lon_plant\n",
       "0  plant_1   customer_1    843.18  42.142478 -82.767944\n",
       "1  plant_1   customer_2   1252.82  42.142478 -82.767944\n",
       "2  plant_1   customer_5   1304.46  42.142478 -82.767944\n",
       "3  plant_1  customer_14    901.05  42.142478 -82.767944\n",
       "4  plant_1  customer_15    510.35  42.142478 -82.767944"
      ]
     },
     "execution_count": 5,
     "metadata": {},
     "output_type": "execute_result"
    }
   ],
   "source": [
    "df = df.merge(plants, left_on='plant', right_on='plant')\n",
    "df.head()"
   ]
  },
  {
   "cell_type": "code",
   "execution_count": 6,
   "id": "be3f038a",
   "metadata": {},
   "outputs": [
    {
     "data": {
      "text/html": [
       "<div>\n",
       "<style scoped>\n",
       "    .dataframe tbody tr th:only-of-type {\n",
       "        vertical-align: middle;\n",
       "    }\n",
       "\n",
       "    .dataframe tbody tr th {\n",
       "        vertical-align: top;\n",
       "    }\n",
       "\n",
       "    .dataframe thead th {\n",
       "        text-align: right;\n",
       "    }\n",
       "</style>\n",
       "<table border=\"1\" class=\"dataframe\">\n",
       "  <thead>\n",
       "    <tr style=\"text-align: right;\">\n",
       "      <th></th>\n",
       "      <th>plant</th>\n",
       "      <th>customer</th>\n",
       "      <th>distance</th>\n",
       "      <th>lat_plant</th>\n",
       "      <th>lon_plant</th>\n",
       "      <th>lat_cust</th>\n",
       "      <th>lon_cust</th>\n",
       "      <th>cust_loc</th>\n",
       "    </tr>\n",
       "  </thead>\n",
       "  <tbody>\n",
       "    <tr>\n",
       "      <th>0</th>\n",
       "      <td>plant_1</td>\n",
       "      <td>customer_1</td>\n",
       "      <td>843.18</td>\n",
       "      <td>42.142478</td>\n",
       "      <td>-82.767944</td>\n",
       "      <td>33.119610</td>\n",
       "      <td>-97.400205</td>\n",
       "      <td>[-97.40020548679664, 33.119610297337566]</td>\n",
       "    </tr>\n",
       "    <tr>\n",
       "      <th>1</th>\n",
       "      <td>plant_3</td>\n",
       "      <td>customer_1</td>\n",
       "      <td>426.32</td>\n",
       "      <td>32.765674</td>\n",
       "      <td>-92.726484</td>\n",
       "      <td>33.119610</td>\n",
       "      <td>-97.400205</td>\n",
       "      <td>[-97.40020548679664, 33.119610297337566]</td>\n",
       "    </tr>\n",
       "    <tr>\n",
       "      <th>2</th>\n",
       "      <td>plant_5</td>\n",
       "      <td>customer_1</td>\n",
       "      <td>160.12</td>\n",
       "      <td>33.125264</td>\n",
       "      <td>-99.225366</td>\n",
       "      <td>33.119610</td>\n",
       "      <td>-97.400205</td>\n",
       "      <td>[-97.40020548679664, 33.119610297337566]</td>\n",
       "    </tr>\n",
       "    <tr>\n",
       "      <th>3</th>\n",
       "      <td>plant_10</td>\n",
       "      <td>customer_1</td>\n",
       "      <td>994.55</td>\n",
       "      <td>36.172684</td>\n",
       "      <td>-84.722734</td>\n",
       "      <td>33.119610</td>\n",
       "      <td>-97.400205</td>\n",
       "      <td>[-97.40020548679664, 33.119610297337566]</td>\n",
       "    </tr>\n",
       "    <tr>\n",
       "      <th>4</th>\n",
       "      <td>plant_1</td>\n",
       "      <td>customer_2</td>\n",
       "      <td>1252.82</td>\n",
       "      <td>42.142478</td>\n",
       "      <td>-82.767944</td>\n",
       "      <td>34.045329</td>\n",
       "      <td>-104.146559</td>\n",
       "      <td>[-104.14655867535417, 34.045328769219594]</td>\n",
       "    </tr>\n",
       "  </tbody>\n",
       "</table>\n",
       "</div>"
      ],
      "text/plain": [
       "      plant    customer  distance  lat_plant  lon_plant   lat_cust  \\\n",
       "0   plant_1  customer_1    843.18  42.142478 -82.767944  33.119610   \n",
       "1   plant_3  customer_1    426.32  32.765674 -92.726484  33.119610   \n",
       "2   plant_5  customer_1    160.12  33.125264 -99.225366  33.119610   \n",
       "3  plant_10  customer_1    994.55  36.172684 -84.722734  33.119610   \n",
       "4   plant_1  customer_2   1252.82  42.142478 -82.767944  34.045329   \n",
       "\n",
       "     lon_cust                                   cust_loc  \n",
       "0  -97.400205   [-97.40020548679664, 33.119610297337566]  \n",
       "1  -97.400205   [-97.40020548679664, 33.119610297337566]  \n",
       "2  -97.400205   [-97.40020548679664, 33.119610297337566]  \n",
       "3  -97.400205   [-97.40020548679664, 33.119610297337566]  \n",
       "4 -104.146559  [-104.14655867535417, 34.045328769219594]  "
      ]
     },
     "execution_count": 6,
     "metadata": {},
     "output_type": "execute_result"
    }
   ],
   "source": [
    "df = df.merge(customers, left_on='customer', right_on='customer')\n",
    "df.head()"
   ]
  },
  {
   "cell_type": "code",
   "execution_count": 7,
   "id": "27fa7b86",
   "metadata": {},
   "outputs": [
    {
     "data": {
      "text/plain": [
       "(450, 8)"
      ]
     },
     "execution_count": 7,
     "metadata": {},
     "output_type": "execute_result"
    }
   ],
   "source": [
    "df.shape"
   ]
  },
  {
   "cell_type": "code",
   "execution_count": 12,
   "id": "53fc1fb7",
   "metadata": {},
   "outputs": [],
   "source": [
    "df.drop(columns=['cust_loc'], inplace=True)"
   ]
  },
  {
   "cell_type": "code",
   "execution_count": 13,
   "id": "accd5ccb",
   "metadata": {},
   "outputs": [
    {
     "name": "stdout",
     "output_type": "stream",
     "text": [
      "<class 'pandas.core.frame.DataFrame'>\n",
      "Int64Index: 450 entries, 0 to 449\n",
      "Data columns (total 8 columns):\n",
      " #   Column        Non-Null Count  Dtype  \n",
      "---  ------        --------------  -----  \n",
      " 0   plant         450 non-null    object \n",
      " 1   customer      450 non-null    object \n",
      " 2   distance      450 non-null    float64\n",
      " 3   lat_plant     450 non-null    float64\n",
      " 4   lon_plant     450 non-null    float64\n",
      " 5   lat_cust      450 non-null    float64\n",
      " 6   lon_cust      450 non-null    float64\n",
      " 7   geo_distance  450 non-null    float64\n",
      "dtypes: float64(6), object(2)\n",
      "memory usage: 47.8+ KB\n"
     ]
    }
   ],
   "source": [
    "df.info()"
   ]
  },
  {
   "cell_type": "markdown",
   "id": "f84c1efa",
   "metadata": {},
   "source": [
    "Lets find the shortest distance between points by using distance from geopy"
   ]
  },
  {
   "cell_type": "code",
   "execution_count": 18,
   "id": "fa6a450c",
   "metadata": {},
   "outputs": [],
   "source": [
    "## Lets find geodesc distance\n",
    "df['geo_distance'] = np.nan\n",
    "for index, row in df.iterrows():\n",
    "    point1 = [row['lat_plant'], row['lon_plant']]\n",
    "    point2 = [row['lat_cust'], row['lon_cust']]\n",
    "    df.loc[index,'geo_distance'] = distance(point1, point2).miles"
   ]
  },
  {
   "cell_type": "code",
   "execution_count": 19,
   "id": "af1b1d6f",
   "metadata": {},
   "outputs": [
    {
     "data": {
      "text/html": [
       "<div>\n",
       "<style scoped>\n",
       "    .dataframe tbody tr th:only-of-type {\n",
       "        vertical-align: middle;\n",
       "    }\n",
       "\n",
       "    .dataframe tbody tr th {\n",
       "        vertical-align: top;\n",
       "    }\n",
       "\n",
       "    .dataframe thead th {\n",
       "        text-align: right;\n",
       "    }\n",
       "</style>\n",
       "<table border=\"1\" class=\"dataframe\">\n",
       "  <thead>\n",
       "    <tr style=\"text-align: right;\">\n",
       "      <th></th>\n",
       "      <th>plant</th>\n",
       "      <th>customer</th>\n",
       "      <th>distance</th>\n",
       "      <th>lat_plant</th>\n",
       "      <th>lon_plant</th>\n",
       "      <th>lat_cust</th>\n",
       "      <th>lon_cust</th>\n",
       "      <th>geo_distance</th>\n",
       "    </tr>\n",
       "  </thead>\n",
       "  <tbody>\n",
       "    <tr>\n",
       "      <th>0</th>\n",
       "      <td>plant_1</td>\n",
       "      <td>customer_1</td>\n",
       "      <td>843.18</td>\n",
       "      <td>42.142478</td>\n",
       "      <td>-82.767944</td>\n",
       "      <td>33.11961</td>\n",
       "      <td>-97.400205</td>\n",
       "      <td>1013.066488</td>\n",
       "    </tr>\n",
       "    <tr>\n",
       "      <th>1</th>\n",
       "      <td>plant_3</td>\n",
       "      <td>customer_1</td>\n",
       "      <td>426.32</td>\n",
       "      <td>32.765674</td>\n",
       "      <td>-92.726484</td>\n",
       "      <td>33.11961</td>\n",
       "      <td>-97.400205</td>\n",
       "      <td>272.644352</td>\n",
       "    </tr>\n",
       "    <tr>\n",
       "      <th>2</th>\n",
       "      <td>plant_5</td>\n",
       "      <td>customer_1</td>\n",
       "      <td>160.12</td>\n",
       "      <td>33.125264</td>\n",
       "      <td>-99.225366</td>\n",
       "      <td>33.11961</td>\n",
       "      <td>-97.400205</td>\n",
       "      <td>105.838246</td>\n",
       "    </tr>\n",
       "    <tr>\n",
       "      <th>3</th>\n",
       "      <td>plant_10</td>\n",
       "      <td>customer_1</td>\n",
       "      <td>994.55</td>\n",
       "      <td>36.172684</td>\n",
       "      <td>-84.722734</td>\n",
       "      <td>33.11961</td>\n",
       "      <td>-97.400205</td>\n",
       "      <td>751.577091</td>\n",
       "    </tr>\n",
       "  </tbody>\n",
       "</table>\n",
       "</div>"
      ],
      "text/plain": [
       "      plant    customer  distance  lat_plant  lon_plant  lat_cust   lon_cust  \\\n",
       "0   plant_1  customer_1    843.18  42.142478 -82.767944  33.11961 -97.400205   \n",
       "1   plant_3  customer_1    426.32  32.765674 -92.726484  33.11961 -97.400205   \n",
       "2   plant_5  customer_1    160.12  33.125264 -99.225366  33.11961 -97.400205   \n",
       "3  plant_10  customer_1    994.55  36.172684 -84.722734  33.11961 -97.400205   \n",
       "\n",
       "   geo_distance  \n",
       "0   1013.066488  \n",
       "1    272.644352  \n",
       "2    105.838246  \n",
       "3    751.577091  "
      ]
     },
     "execution_count": 19,
     "metadata": {},
     "output_type": "execute_result"
    }
   ],
   "source": [
    "df.head(4)"
   ]
  },
  {
   "cell_type": "code",
   "execution_count": null,
   "id": "34f7ec01",
   "metadata": {},
   "outputs": [],
   "source": []
  },
  {
   "cell_type": "code",
   "execution_count": 51,
   "id": "a3988258",
   "metadata": {},
   "outputs": [
    {
     "data": {
      "text/plain": [
       "Text(0, 0.5, 'Distance (mile)')"
      ]
     },
     "execution_count": 51,
     "metadata": {},
     "output_type": "execute_result"
    },
    {
     "data": {
      "image/png": "[encoded data removed]",
      "text/plain": [
       "<Figure size 432x288 with 1 Axes>"
      ]
     },
     "metadata": {
      "needs_background": "light"
     },
     "output_type": "display_data"
    }
   ],
   "source": [
    "gig, ax = plt.subplots()\n",
    "sns.scatterplot(y=df['distance'], x=df['geo_distance'], ax=ax)\n",
    "ax.set_xlabel('Geo_distance (mile)')\n",
    "ax.set_ylabel('Distance (mile)')"
   ]
  },
  {
   "cell_type": "markdown",
   "id": "da17bcd3",
   "metadata": {},
   "source": [
    "## Model training"
   ]
  },
  {
   "cell_type": "markdown",
   "id": "cf934b70",
   "metadata": {},
   "source": [
    "We split the data into two sets, training and test. Then use cross-validation with 5 fold to do a regression. we then find R2 and mean MAE"
   ]
  },
  {
   "cell_type": "code",
   "execution_count": 22,
   "id": "9106c455",
   "metadata": {},
   "outputs": [],
   "source": [
    "X = df['geo_distance'].values.reshape(-1, 1)\n",
    "y = df['distance'].values.reshape(-1, 1)"
   ]
  },
  {
   "cell_type": "code",
   "execution_count": 24,
   "id": "3318dc55",
   "metadata": {},
   "outputs": [],
   "source": [
    "X_train, X_test, y_train, y_test = train_test_split(X, y, test_size=0.3, shuffle=True, random_state=42)"
   ]
  },
  {
   "cell_type": "code",
   "execution_count": 25,
   "id": "bcac9c84",
   "metadata": {},
   "outputs": [
    {
     "name": "stdout",
     "output_type": "stream",
     "text": [
      "[-32674.48311549 -19450.39304826 -32871.74686925 -25705.30239037\n",
      " -30105.64139251]\n",
      "-28161.51336317426 5064.571431924511\n"
     ]
    }
   ],
   "source": [
    "model = LinearRegression()\n",
    "kfold = KFold(n_splits=5, shuffle = False)\n",
    "\n",
    "cv_results = cross_validate(model, X_train, y_train, cv = kfold, scoring='neg_mean_squared_error')\n",
    "cv_scores = cv_results['test_score']\n",
    "print(cv_scores)\n",
    "print(np.mean(cv_scores), np.std(cv_scores))"
   ]
  },
  {
   "cell_type": "code",
   "execution_count": 26,
   "id": "a71acbad",
   "metadata": {},
   "outputs": [],
   "source": [
    "final_model = model.fit(X_train, y_train)"
   ]
  },
  {
   "cell_type": "code",
   "execution_count": null,
   "id": "91a1c8ec",
   "metadata": {},
   "outputs": [],
   "source": []
  },
  {
   "cell_type": "code",
   "execution_count": 27,
   "id": "b95d3c12",
   "metadata": {},
   "outputs": [
    {
     "name": "stdout",
     "output_type": "stream",
     "text": [
      "train R2: 0.73\n",
      "test R2:  0.76\n"
     ]
    }
   ],
   "source": [
    "y_train_pred = final_model.predict(X_train)\n",
    "y_test_pred = final_model.predict(X_test)\n",
    "\n",
    "train_r2 = round(r2_score(y_train, y_train_pred), 2)\n",
    "test_r2 = round(r2_score(y_test, y_test_pred), 2)\n",
    "print('train R2:', train_r2)\n",
    "print('test R2: ', test_r2)"
   ]
  },
  {
   "cell_type": "markdown",
   "id": "f45e61ee",
   "metadata": {},
   "source": [
    "The R2 for test and train are very similar. The model is not overfitting. Let's use it to predict the distance between plants and customers. But first lets see what pair we don't have data for."
   ]
  },
  {
   "cell_type": "code",
   "execution_count": 28,
   "id": "6654bdf6",
   "metadata": {},
   "outputs": [],
   "source": [
    "df['plant_customer'] = [str(x) + '**' + str(y) for x, y in zip(df['plant'], df['customer'])]"
   ]
  },
  {
   "cell_type": "code",
   "execution_count": 29,
   "id": "65c4432a",
   "metadata": {},
   "outputs": [],
   "source": [
    "all_pair = []\n",
    "for plant_name in plants['plant'].unique():\n",
    "    for customer in customers['customer']:\n",
    "        pair = plant_name + '**' + customer\n",
    "        all_pair.append(pair)"
   ]
  },
  {
   "cell_type": "code",
   "execution_count": 30,
   "id": "01d790dd",
   "metadata": {},
   "outputs": [
    {
     "data": {
      "text/plain": [
       "2500"
      ]
     },
     "execution_count": 30,
     "metadata": {},
     "output_type": "execute_result"
    }
   ],
   "source": [
    "len(all_pair)"
   ]
  },
  {
   "cell_type": "code",
   "execution_count": 31,
   "id": "52a101c4",
   "metadata": {},
   "outputs": [],
   "source": [
    "unavailable_pairs = list(set(all_pair) - set(all_pair).intersection(set(df['plant_customer'])))"
   ]
  },
  {
   "cell_type": "code",
   "execution_count": 32,
   "id": "784bf785",
   "metadata": {},
   "outputs": [
    {
     "data": {
      "text/plain": [
       "2050"
      ]
     },
     "execution_count": 32,
     "metadata": {},
     "output_type": "execute_result"
    }
   ],
   "source": [
    "len(unavailable_pairs)"
   ]
  },
  {
   "cell_type": "code",
   "execution_count": 33,
   "id": "422183ee",
   "metadata": {},
   "outputs": [],
   "source": [
    "unavailable = pd.DataFrame()"
   ]
  },
  {
   "cell_type": "code",
   "execution_count": 34,
   "id": "b88dc775",
   "metadata": {},
   "outputs": [
    {
     "data": {
      "text/html": [
       "<div>\n",
       "<style scoped>\n",
       "    .dataframe tbody tr th:only-of-type {\n",
       "        vertical-align: middle;\n",
       "    }\n",
       "\n",
       "    .dataframe tbody tr th {\n",
       "        vertical-align: top;\n",
       "    }\n",
       "\n",
       "    .dataframe thead th {\n",
       "        text-align: right;\n",
       "    }\n",
       "</style>\n",
       "<table border=\"1\" class=\"dataframe\">\n",
       "  <thead>\n",
       "    <tr style=\"text-align: right;\">\n",
       "      <th></th>\n",
       "      <th>plant</th>\n",
       "      <th>customer</th>\n",
       "    </tr>\n",
       "  </thead>\n",
       "  <tbody>\n",
       "    <tr>\n",
       "      <th>0</th>\n",
       "      <td>plant_4</td>\n",
       "      <td>customer_245</td>\n",
       "    </tr>\n",
       "    <tr>\n",
       "      <th>1</th>\n",
       "      <td>plant_4</td>\n",
       "      <td>customer_116</td>\n",
       "    </tr>\n",
       "    <tr>\n",
       "      <th>2</th>\n",
       "      <td>plant_3</td>\n",
       "      <td>customer_120</td>\n",
       "    </tr>\n",
       "    <tr>\n",
       "      <th>3</th>\n",
       "      <td>plant_7</td>\n",
       "      <td>customer_6</td>\n",
       "    </tr>\n",
       "    <tr>\n",
       "      <th>4</th>\n",
       "      <td>plant_6</td>\n",
       "      <td>customer_142</td>\n",
       "    </tr>\n",
       "  </tbody>\n",
       "</table>\n",
       "</div>"
      ],
      "text/plain": [
       "     plant      customer\n",
       "0  plant_4  customer_245\n",
       "1  plant_4  customer_116\n",
       "2  plant_3  customer_120\n",
       "3  plant_7    customer_6\n",
       "4  plant_6  customer_142"
      ]
     },
     "execution_count": 34,
     "metadata": {},
     "output_type": "execute_result"
    }
   ],
   "source": [
    "unavailable['plant'] = [pair.split('**')[0] for pair in unavailable_pairs]\n",
    "unavailable['customer'] = [pair.split('**')[1] for pair in unavailable_pairs]\n",
    "unavailable.head()"
   ]
  },
  {
   "cell_type": "code",
   "execution_count": 35,
   "id": "f1f28aed",
   "metadata": {},
   "outputs": [],
   "source": [
    "unavailable = unavailable.merge(plants, on='plant', how='left')\n",
    "unavailable = unavailable.merge(customers, on='customer', how='left')\n"
   ]
  },
  {
   "cell_type": "code",
   "execution_count": 36,
   "id": "929373f9",
   "metadata": {},
   "outputs": [
    {
     "data": {
      "text/html": [
       "<div>\n",
       "<style scoped>\n",
       "    .dataframe tbody tr th:only-of-type {\n",
       "        vertical-align: middle;\n",
       "    }\n",
       "\n",
       "    .dataframe tbody tr th {\n",
       "        vertical-align: top;\n",
       "    }\n",
       "\n",
       "    .dataframe thead th {\n",
       "        text-align: right;\n",
       "    }\n",
       "</style>\n",
       "<table border=\"1\" class=\"dataframe\">\n",
       "  <thead>\n",
       "    <tr style=\"text-align: right;\">\n",
       "      <th></th>\n",
       "      <th>plant</th>\n",
       "      <th>customer</th>\n",
       "      <th>lat_plant</th>\n",
       "      <th>lon_plant</th>\n",
       "      <th>lat_cust</th>\n",
       "      <th>lon_cust</th>\n",
       "      <th>cust_loc</th>\n",
       "    </tr>\n",
       "  </thead>\n",
       "  <tbody>\n",
       "    <tr>\n",
       "      <th>0</th>\n",
       "      <td>plant_4</td>\n",
       "      <td>customer_245</td>\n",
       "      <td>34.761577</td>\n",
       "      <td>-98.483023</td>\n",
       "      <td>42.932752</td>\n",
       "      <td>-84.496640</td>\n",
       "      <td>[-84.496640102917, 42.93275202627165]</td>\n",
       "    </tr>\n",
       "    <tr>\n",
       "      <th>1</th>\n",
       "      <td>plant_4</td>\n",
       "      <td>customer_116</td>\n",
       "      <td>34.761577</td>\n",
       "      <td>-98.483023</td>\n",
       "      <td>32.772071</td>\n",
       "      <td>-88.080394</td>\n",
       "      <td>[-88.08039406501419, 32.77207117467964]</td>\n",
       "    </tr>\n",
       "    <tr>\n",
       "      <th>2</th>\n",
       "      <td>plant_3</td>\n",
       "      <td>customer_120</td>\n",
       "      <td>32.765674</td>\n",
       "      <td>-92.726484</td>\n",
       "      <td>34.653580</td>\n",
       "      <td>-89.765890</td>\n",
       "      <td>[-89.76589028212442, 34.65358031965204]</td>\n",
       "    </tr>\n",
       "    <tr>\n",
       "      <th>3</th>\n",
       "      <td>plant_7</td>\n",
       "      <td>customer_6</td>\n",
       "      <td>33.955302</td>\n",
       "      <td>-100.491126</td>\n",
       "      <td>37.595152</td>\n",
       "      <td>-82.043794</td>\n",
       "      <td>[-82.04379370309694, 37.59515182696723]</td>\n",
       "    </tr>\n",
       "    <tr>\n",
       "      <th>4</th>\n",
       "      <td>plant_6</td>\n",
       "      <td>customer_142</td>\n",
       "      <td>35.282113</td>\n",
       "      <td>-89.584722</td>\n",
       "      <td>35.618365</td>\n",
       "      <td>-82.429394</td>\n",
       "      <td>[-82.42939436550455, 35.61836505106709]</td>\n",
       "    </tr>\n",
       "  </tbody>\n",
       "</table>\n",
       "</div>"
      ],
      "text/plain": [
       "     plant      customer  lat_plant   lon_plant   lat_cust   lon_cust  \\\n",
       "0  plant_4  customer_245  34.761577  -98.483023  42.932752 -84.496640   \n",
       "1  plant_4  customer_116  34.761577  -98.483023  32.772071 -88.080394   \n",
       "2  plant_3  customer_120  32.765674  -92.726484  34.653580 -89.765890   \n",
       "3  plant_7    customer_6  33.955302 -100.491126  37.595152 -82.043794   \n",
       "4  plant_6  customer_142  35.282113  -89.584722  35.618365 -82.429394   \n",
       "\n",
       "                                  cust_loc  \n",
       "0    [-84.496640102917, 42.93275202627165]  \n",
       "1  [-88.08039406501419, 32.77207117467964]  \n",
       "2  [-89.76589028212442, 34.65358031965204]  \n",
       "3  [-82.04379370309694, 37.59515182696723]  \n",
       "4  [-82.42939436550455, 35.61836505106709]  "
      ]
     },
     "execution_count": 36,
     "metadata": {},
     "output_type": "execute_result"
    }
   ],
   "source": [
    "unavailable.head()"
   ]
  },
  {
   "cell_type": "code",
   "execution_count": 37,
   "id": "754cd737",
   "metadata": {},
   "outputs": [],
   "source": [
    "\n",
    "unavailable['geo_distance'] = np.nan\n",
    "for index, row in unavailable.iterrows():\n",
    "    \n",
    "    point1 = [row['lat_plant'], row['lon_plant']]\n",
    "    point2 = [row['lat_cust'], row['lon_cust']]\n",
    "    unavailable.loc[index,'geo_distance'] = distance(point1, point2).miles"
   ]
  },
  {
   "cell_type": "code",
   "execution_count": 38,
   "id": "e9dccbd6",
   "metadata": {},
   "outputs": [],
   "source": [
    "X = unavailable['geo_distance'].values.reshape(-1,1)\n",
    " "
   ]
  },
  {
   "cell_type": "code",
   "execution_count": 39,
   "id": "3f9b568b",
   "metadata": {},
   "outputs": [],
   "source": [
    "prediction = final_model.predict(X)"
   ]
  },
  {
   "cell_type": "code",
   "execution_count": 40,
   "id": "a12be486",
   "metadata": {},
   "outputs": [],
   "source": [
    "unavailable['distance'] = prediction"
   ]
  },
  {
   "cell_type": "code",
   "execution_count": 41,
   "id": "cbd62f39",
   "metadata": {},
   "outputs": [
    {
     "data": {
      "text/html": [
       "<div>\n",
       "<style scoped>\n",
       "    .dataframe tbody tr th:only-of-type {\n",
       "        vertical-align: middle;\n",
       "    }\n",
       "\n",
       "    .dataframe tbody tr th {\n",
       "        vertical-align: top;\n",
       "    }\n",
       "\n",
       "    .dataframe thead th {\n",
       "        text-align: right;\n",
       "    }\n",
       "</style>\n",
       "<table border=\"1\" class=\"dataframe\">\n",
       "  <thead>\n",
       "    <tr style=\"text-align: right;\">\n",
       "      <th></th>\n",
       "      <th>plant</th>\n",
       "      <th>customer</th>\n",
       "      <th>lat_plant</th>\n",
       "      <th>lon_plant</th>\n",
       "      <th>lat_cust</th>\n",
       "      <th>lon_cust</th>\n",
       "      <th>cust_loc</th>\n",
       "      <th>geo_distance</th>\n",
       "      <th>distance</th>\n",
       "    </tr>\n",
       "  </thead>\n",
       "  <tbody>\n",
       "    <tr>\n",
       "      <th>0</th>\n",
       "      <td>plant_4</td>\n",
       "      <td>customer_245</td>\n",
       "      <td>34.761577</td>\n",
       "      <td>-98.483023</td>\n",
       "      <td>42.932752</td>\n",
       "      <td>-84.496640</td>\n",
       "      <td>[-84.496640102917, 42.93275202627165]</td>\n",
       "      <td>939.655293</td>\n",
       "      <td>932.541130</td>\n",
       "    </tr>\n",
       "    <tr>\n",
       "      <th>1</th>\n",
       "      <td>plant_4</td>\n",
       "      <td>customer_116</td>\n",
       "      <td>34.761577</td>\n",
       "      <td>-98.483023</td>\n",
       "      <td>32.772071</td>\n",
       "      <td>-88.080394</td>\n",
       "      <td>[-88.08039406501419, 32.77207117467964]</td>\n",
       "      <td>613.974384</td>\n",
       "      <td>649.908858</td>\n",
       "    </tr>\n",
       "    <tr>\n",
       "      <th>2</th>\n",
       "      <td>plant_3</td>\n",
       "      <td>customer_120</td>\n",
       "      <td>32.765674</td>\n",
       "      <td>-92.726484</td>\n",
       "      <td>34.653580</td>\n",
       "      <td>-89.765890</td>\n",
       "      <td>[-89.76589028212442, 34.65358031965204]</td>\n",
       "      <td>214.481657</td>\n",
       "      <td>303.221244</td>\n",
       "    </tr>\n",
       "    <tr>\n",
       "      <th>3</th>\n",
       "      <td>plant_7</td>\n",
       "      <td>customer_6</td>\n",
       "      <td>33.955302</td>\n",
       "      <td>-100.491126</td>\n",
       "      <td>37.595152</td>\n",
       "      <td>-82.043794</td>\n",
       "      <td>[-82.04379370309694, 37.59515182696723]</td>\n",
       "      <td>1064.454870</td>\n",
       "      <td>1040.844648</td>\n",
       "    </tr>\n",
       "    <tr>\n",
       "      <th>4</th>\n",
       "      <td>plant_6</td>\n",
       "      <td>customer_142</td>\n",
       "      <td>35.282113</td>\n",
       "      <td>-89.584722</td>\n",
       "      <td>35.618365</td>\n",
       "      <td>-82.429394</td>\n",
       "      <td>[-82.42939436550455, 35.61836505106709]</td>\n",
       "      <td>404.217369</td>\n",
       "      <td>467.877611</td>\n",
       "    </tr>\n",
       "  </tbody>\n",
       "</table>\n",
       "</div>"
      ],
      "text/plain": [
       "     plant      customer  lat_plant   lon_plant   lat_cust   lon_cust  \\\n",
       "0  plant_4  customer_245  34.761577  -98.483023  42.932752 -84.496640   \n",
       "1  plant_4  customer_116  34.761577  -98.483023  32.772071 -88.080394   \n",
       "2  plant_3  customer_120  32.765674  -92.726484  34.653580 -89.765890   \n",
       "3  plant_7    customer_6  33.955302 -100.491126  37.595152 -82.043794   \n",
       "4  plant_6  customer_142  35.282113  -89.584722  35.618365 -82.429394   \n",
       "\n",
       "                                  cust_loc  geo_distance     distance  \n",
       "0    [-84.496640102917, 42.93275202627165]    939.655293   932.541130  \n",
       "1  [-88.08039406501419, 32.77207117467964]    613.974384   649.908858  \n",
       "2  [-89.76589028212442, 34.65358031965204]    214.481657   303.221244  \n",
       "3  [-82.04379370309694, 37.59515182696723]   1064.454870  1040.844648  \n",
       "4  [-82.42939436550455, 35.61836505106709]    404.217369   467.877611  "
      ]
     },
     "execution_count": 41,
     "metadata": {},
     "output_type": "execute_result"
    }
   ],
   "source": [
    "unavailable.head()"
   ]
  },
  {
   "cell_type": "code",
   "execution_count": 42,
   "id": "905b0b6f",
   "metadata": {},
   "outputs": [],
   "source": [
    "for_submit = unavailable[['plant', 'customer', 'distance']]"
   ]
  },
  {
   "cell_type": "code",
   "execution_count": 43,
   "id": "79fe6f65",
   "metadata": {},
   "outputs": [],
   "source": [
    "for_submit.to_excel('report.xlsx', index=False)"
   ]
  },
  {
   "cell_type": "markdown",
   "id": "dbe593c6",
   "metadata": {},
   "source": [
    "## Robust Regression"
   ]
  },
  {
   "cell_type": "code",
   "execution_count": 50,
   "id": "c218b827",
   "metadata": {},
   "outputs": [
    {
     "name": "stdout",
     "output_type": "stream",
     "text": [
      "[-30161.88644584 -36063.00507381 -36710.51230213 -36404.3894391\n",
      " -42912.56806969]\n",
      "-36450.472266113764 4037.9417793216076\n",
      "train R2: 0.73\n",
      "test R2:  0.76\n"
     ]
    },
    {
     "data": {
      "text/plain": [
       "Text(0, 0.5, 'Distance (mile)')"
      ]
     },
     "execution_count": 50,
     "metadata": {},
     "output_type": "execute_result"
    },
    {
     "data": {
      "image/png": "[encoded data removed]",
      "text/plain": [
       "<Figure size 432x288 with 1 Axes>"
      ]
     },
     "metadata": {
      "needs_background": "light"
     },
     "output_type": "display_data"
    }
   ],
   "source": [
    "from sklearn.linear_model import RANSACRegressor\n",
    "\n",
    "ransac = RANSACRegressor()\n",
    "kfold = KFold(n_splits=5, shuffle = False)\n",
    "\n",
    "cv_results = cross_validate(ransac, X_train, y_train, cv = kfold, scoring='neg_mean_squared_error')\n",
    "cv_scores = cv_results['test_score']\n",
    "print(cv_scores)\n",
    "print(np.mean(cv_scores), np.std(cv_scores))\n",
    "\n",
    "final_ransac = ransac.fit (X_train, y_train)\n",
    "\n",
    "y_train_pred2 = final_ransac.predict(X_train)\n",
    "y_test_pred2 = final_ransac.predict(X_test)\n",
    "\n",
    "train_r22 = round(r2_score(y_train, y_train_pred2), 2)\n",
    "test_r22= round(r2_score(y_test, y_test_pred2), 2)\n",
    "print('train R2:', train_r22)\n",
    "print('test R2: ', test_r22)\n",
    "\n",
    "ransac = RANSACRegressor()\n",
    "X = df['geo_distance'].values.reshape(-1, 1)\n",
    "y = df['distance'].values.reshape(-1, 1)\n",
    "final_ransac = ransac.fit(X, y)\n",
    "\n",
    "inlier_mask = final_ransac.inlier_mask_\n",
    "outlier_mask = np.logical_not(inlier_mask)\n",
    "\n",
    "line_X = np.arange(0,5000,1)\n",
    "line_y = final_ransac.predict(line_X.reshape(-1,1))\n",
    "\n",
    "plt.scatter(x=X[inlier_mask], y=y[inlier_mask], c='blue', marker='o', label='Inliers')\n",
    "plt.scatter(x=X[outlier_mask], y=y[outlier_mask], c='red', marker='s', label='Outliers')\n",
    "plt.legend(['Inliers', 'Outliers'])\n",
    "plt.xlabel('Geo_distance (mile)')\n",
    "plt.ylabel('Distance (mile)')"
   ]
  },
  {
   "cell_type": "code",
   "execution_count": null,
   "id": "34799ca1",
   "metadata": {},
   "outputs": [],
   "source": []
  },
  {
   "cell_type": "code",
   "execution_count": null,
   "id": "b2e69c89",
   "metadata": {},
   "outputs": [],
   "source": [
    "X = unavailable['geo_distance'].values.reshape(-1,1)\n",
    "prediction = final_ransac.predict(X)\n",
    "unavailable['distance2'] = prediction"
   ]
  },
  {
   "cell_type": "code",
   "execution_count": null,
   "id": "b19d50d6",
   "metadata": {},
   "outputs": [],
   "source": [
    "unavailable.head()"
   ]
  },
  {
   "cell_type": "code",
   "execution_count": null,
   "id": "6315ee88",
   "metadata": {},
   "outputs": [],
   "source": []
  },
  {
   "cell_type": "code",
   "execution_count": 52,
   "id": "0dae192d",
   "metadata": {},
   "outputs": [],
   "source": [
    "from sklearn.datasets import make_regression\n"
   ]
  },
  {
   "cell_type": "code",
   "execution_count": 53,
   "id": "db5383ac",
   "metadata": {},
   "outputs": [],
   "source": [
    "X, y = make_regression(n_samples=100, n_features=1, tail_strength=0.9, effective_rank=1, n_informative=1, noise=3, bias=50, random_state=1)\n"
   ]
  },
  {
   "cell_type": "code",
   "execution_count": 55,
   "id": "17346035",
   "metadata": {},
   "outputs": [
    {
     "data": {
      "text/plain": [
       "array([57.0517663 , 48.42218204, 50.47606744, 47.60846577, 61.6446361 ,\n",
       "       41.22141214, 49.55000903, 42.23665579, 59.34578282, 33.33575253,\n",
       "       55.12857862, 52.28333222, 56.52409377, 49.67193048, 39.0461615 ,\n",
       "       59.11744774, 37.72760565, 44.10715536, 55.92015679, 33.04053329,\n",
       "       59.72871727, 43.28467911, 49.09540002, 56.94990419, 40.55446577,\n",
       "       53.24817731, 55.02070364, 56.75085001, 30.25662405, 43.35485364,\n",
       "       54.09622186, 49.10467524, 40.8371641 , 50.37902043, 56.83162571,\n",
       "       63.32469357, 45.02251355, 52.50329906, 51.71362968, 35.57297634,\n",
       "       73.86375694, 40.80125441, 59.81317854, 30.6886221 , 33.43192021,\n",
       "       62.46987075, 65.69985088, 55.00578879, 41.15421864, 53.10676304,\n",
       "       41.41398472, 55.9100712 , 39.66401285, 43.26898328, 49.29666758,\n",
       "       59.57236305, 48.31450304, 60.28447753, 53.48098645, 50.956169  ,\n",
       "       46.45098715, 40.82509086, 36.5482466 , 47.16007302, 47.28856914,\n",
       "       51.62795842, 57.61576866, 57.60449649, 43.02675632, 61.45983249,\n",
       "       44.95574997, 61.83023731, 49.21748181, 58.55794602, 66.75823622,\n",
       "       46.31454125, 37.86370039, 45.77391126, 56.35574782, 44.4519582 ,\n",
       "       52.14380545, 57.05102018, 39.18700245, 38.23489174, 40.27640799,\n",
       "       67.71844929, 47.43679091, 53.49071202, 54.66757872, 46.24324023,\n",
       "       51.78490643, 63.90786817, 47.49141992, 69.06398347, 53.6995497 ,\n",
       "       46.20286166, 59.96323933, 38.82151874, 47.5432127 , 50.40067848])"
      ]
     },
     "execution_count": 55,
     "metadata": {},
     "output_type": "execute_result"
    }
   ],
   "source": [
    "y"
   ]
  },
  {
   "cell_type": "code",
   "execution_count": 59,
   "id": "12f0df1f",
   "metadata": {},
   "outputs": [],
   "source": [
    "from random import randint\n",
    "from random import random\n"
   ]
  },
  {
   "cell_type": "code",
   "execution_count": 64,
   "id": "aa75558b",
   "metadata": {},
   "outputs": [
    {
     "name": "stdout",
     "output_type": "stream",
     "text": [
      "0.7669084975405019 3\n",
      "0.9674340896279304 2\n",
      "0.13951758061777098 2\n",
      "0.40127460974795315 2\n",
      "0.7368773593336865 2\n",
      "0.44714973496513055 3\n"
     ]
    }
   ],
   "source": [
    "for i in range(10):\n",
    "    factor = randint(2, 4)\n",
    "    if random() > 0.5:\n",
    "        print(random(), factor)\n",
    "        X[i] += factor * X.std()\n",
    "    else:\n",
    "        X[i] -= factor * X.std()\n",
    "\n"
   ]
  },
  {
   "cell_type": "code",
   "execution_count": 65,
   "id": "72d02bd8",
   "metadata": {},
   "outputs": [
    {
     "name": "stdout",
     "output_type": "stream",
     "text": [
      "100 100\n"
     ]
    }
   ],
   "source": [
    "print(len(X), len(y))"
   ]
  },
  {
   "cell_type": "code",
   "execution_count": null,
   "id": "35d586dd",
   "metadata": {},
   "outputs": [],
   "source": []
  }
 ],
 "metadata": {
  "kernelspec": {
   "display_name": "Python 3",
   "language": "python",
   "name": "python3"
  },
  "language_info": {
   "codemirror_mode": {
    "name": "ipython",
    "version": 3
   },
   "file_extension": ".py",
   "mimetype": "text/x-python",
   "name": "python",
   "nbconvert_exporter": "python",
   "pygments_lexer": "ipython3",
   "version": "3.8.8"
  }
 },
 "nbformat": 4,
 "nbformat_minor": 5
}
