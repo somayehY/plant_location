{
 "cells": [
  {
   "cell_type": "markdown",
   "id": "f6e69bcd",
   "metadata": {},
   "source": [
    "The question that I try to answer here, is to find a simple model to predict truck travelled distance between two locations based on the shortest distance between them. The data that we have is a csv file of the location of plants, a csv file of customer's location. A csv file of historic travels between plants and customers. We want to predict the distance for those pairs we do not have data for.\n"
   ]
  },
  {
   "cell_type": "markdown",
   "id": "6a635c87",
   "metadata": {},
   "source": [
    "## Import libraries"
   ]
  },
  {
   "cell_type": "code",
   "execution_count": 83,
   "id": "94821030",
   "metadata": {},
   "outputs": [],
   "source": [
    "import pandas as pd\n",
    "import numpy as np\n",
    "\n",
    "from geopy.distance import distance\n",
    "import matplotlib.pyplot as plt\n",
    "import seaborn as sns\n",
    "\n",
    "from sklearn.metrics import r2_score,  mean_absolute_error, mean_squared_error\n",
    "from sklearn.model_selection import train_test_split, cross_validate, GridSearchCV, KFold, cross_val_predict\n",
    "\n",
    "\n",
    "\n",
    "from sklearn.linear_model import (\n",
    "    HuberRegressor,\n",
    "    LinearRegression,\n",
    "    RANSACRegressor,\n",
    "    TheilSenRegressor,\n",
    "    Ridge\n",
    ")\n",
    "from sklearn.metrics import mean_absolute_error"
   ]
  },
  {
   "cell_type": "markdown",
   "id": "fc934079",
   "metadata": {},
   "source": [
    "## Import data files"
   ]
  },
  {
   "cell_type": "markdown",
   "id": "25cd1eb1",
   "metadata": {},
   "source": [
    "Let's read the data files"
   ]
  },
  {
   "cell_type": "code",
   "execution_count": 3,
   "id": "e54f585a",
   "metadata": {},
   "outputs": [
    {
     "data": {
      "text/html": [
       "<div>\n",
       "<style scoped>\n",
       "    .dataframe tbody tr th:only-of-type {\n",
       "        vertical-align: middle;\n",
       "    }\n",
       "\n",
       "    .dataframe tbody tr th {\n",
       "        vertical-align: top;\n",
       "    }\n",
       "\n",
       "    .dataframe thead th {\n",
       "        text-align: right;\n",
       "    }\n",
       "</style>\n",
       "<table border=\"1\" class=\"dataframe\">\n",
       "  <thead>\n",
       "    <tr style=\"text-align: right;\">\n",
       "      <th></th>\n",
       "      <th>plant</th>\n",
       "      <th>lat_plant</th>\n",
       "      <th>lon_plant</th>\n",
       "    </tr>\n",
       "  </thead>\n",
       "  <tbody>\n",
       "    <tr>\n",
       "      <th>0</th>\n",
       "      <td>plant_1</td>\n",
       "      <td>42.142478</td>\n",
       "      <td>-82.767944</td>\n",
       "    </tr>\n",
       "    <tr>\n",
       "      <th>1</th>\n",
       "      <td>plant_2</td>\n",
       "      <td>34.240845</td>\n",
       "      <td>-91.383426</td>\n",
       "    </tr>\n",
       "    <tr>\n",
       "      <th>2</th>\n",
       "      <td>plant_3</td>\n",
       "      <td>32.765674</td>\n",
       "      <td>-92.726484</td>\n",
       "    </tr>\n",
       "    <tr>\n",
       "      <th>3</th>\n",
       "      <td>plant_4</td>\n",
       "      <td>34.761577</td>\n",
       "      <td>-98.483023</td>\n",
       "    </tr>\n",
       "    <tr>\n",
       "      <th>4</th>\n",
       "      <td>plant_5</td>\n",
       "      <td>33.125264</td>\n",
       "      <td>-99.225366</td>\n",
       "    </tr>\n",
       "  </tbody>\n",
       "</table>\n",
       "</div>"
      ],
      "text/plain": [
       "     plant  lat_plant  lon_plant\n",
       "0  plant_1  42.142478 -82.767944\n",
       "1  plant_2  34.240845 -91.383426\n",
       "2  plant_3  32.765674 -92.726484\n",
       "3  plant_4  34.761577 -98.483023\n",
       "4  plant_5  33.125264 -99.225366"
      ]
     },
     "execution_count": 3,
     "metadata": {},
     "output_type": "execute_result"
    }
   ],
   "source": [
    "plants = pd.read_csv('plants2.csv')\n",
    "plants.head()"
   ]
  },
  {
   "cell_type": "code",
   "execution_count": 4,
   "id": "d3fe0646",
   "metadata": {},
   "outputs": [
    {
     "data": {
      "text/html": [
       "<div>\n",
       "<style scoped>\n",
       "    .dataframe tbody tr th:only-of-type {\n",
       "        vertical-align: middle;\n",
       "    }\n",
       "\n",
       "    .dataframe tbody tr th {\n",
       "        vertical-align: top;\n",
       "    }\n",
       "\n",
       "    .dataframe thead th {\n",
       "        text-align: right;\n",
       "    }\n",
       "</style>\n",
       "<table border=\"1\" class=\"dataframe\">\n",
       "  <thead>\n",
       "    <tr style=\"text-align: right;\">\n",
       "      <th></th>\n",
       "      <th>customer</th>\n",
       "      <th>lat_cust</th>\n",
       "      <th>lon_cust</th>\n",
       "      <th>cust_loc</th>\n",
       "    </tr>\n",
       "  </thead>\n",
       "  <tbody>\n",
       "    <tr>\n",
       "      <th>0</th>\n",
       "      <td>customer_1</td>\n",
       "      <td>33.119610</td>\n",
       "      <td>-97.400205</td>\n",
       "      <td>[-97.40020548679664, 33.119610297337566]</td>\n",
       "    </tr>\n",
       "    <tr>\n",
       "      <th>1</th>\n",
       "      <td>customer_2</td>\n",
       "      <td>34.045329</td>\n",
       "      <td>-104.146559</td>\n",
       "      <td>[-104.14655867535417, 34.045328769219594]</td>\n",
       "    </tr>\n",
       "    <tr>\n",
       "      <th>2</th>\n",
       "      <td>customer_3</td>\n",
       "      <td>38.008776</td>\n",
       "      <td>-81.852771</td>\n",
       "      <td>[-81.85277146802052, 38.00877605660633]</td>\n",
       "    </tr>\n",
       "    <tr>\n",
       "      <th>3</th>\n",
       "      <td>customer_4</td>\n",
       "      <td>33.648772</td>\n",
       "      <td>-86.025302</td>\n",
       "      <td>[-86.02530175312035, 33.648771968569385]</td>\n",
       "    </tr>\n",
       "    <tr>\n",
       "      <th>4</th>\n",
       "      <td>customer_5</td>\n",
       "      <td>32.648383</td>\n",
       "      <td>-104.643170</td>\n",
       "      <td>[-104.64316989524293, 32.64838291798267]</td>\n",
       "    </tr>\n",
       "  </tbody>\n",
       "</table>\n",
       "</div>"
      ],
      "text/plain": [
       "     customer   lat_cust    lon_cust  \\\n",
       "0  customer_1  33.119610  -97.400205   \n",
       "1  customer_2  34.045329 -104.146559   \n",
       "2  customer_3  38.008776  -81.852771   \n",
       "3  customer_4  33.648772  -86.025302   \n",
       "4  customer_5  32.648383 -104.643170   \n",
       "\n",
       "                                    cust_loc  \n",
       "0   [-97.40020548679664, 33.119610297337566]  \n",
       "1  [-104.14655867535417, 34.045328769219594]  \n",
       "2    [-81.85277146802052, 38.00877605660633]  \n",
       "3   [-86.02530175312035, 33.648771968569385]  \n",
       "4   [-104.64316989524293, 32.64838291798267]  "
      ]
     },
     "execution_count": 4,
     "metadata": {},
     "output_type": "execute_result"
    }
   ],
   "source": [
    "customers = pd.read_csv('customers2.csv')\n",
    "customers.head()"
   ]
  },
  {
   "cell_type": "code",
   "execution_count": 5,
   "id": "b7d36bc0",
   "metadata": {},
   "outputs": [
    {
     "data": {
      "text/html": [
       "<div>\n",
       "<style scoped>\n",
       "    .dataframe tbody tr th:only-of-type {\n",
       "        vertical-align: middle;\n",
       "    }\n",
       "\n",
       "    .dataframe tbody tr th {\n",
       "        vertical-align: top;\n",
       "    }\n",
       "\n",
       "    .dataframe thead th {\n",
       "        text-align: right;\n",
       "    }\n",
       "</style>\n",
       "<table border=\"1\" class=\"dataframe\">\n",
       "  <thead>\n",
       "    <tr style=\"text-align: right;\">\n",
       "      <th></th>\n",
       "      <th>plant</th>\n",
       "      <th>customer</th>\n",
       "      <th>distance</th>\n",
       "    </tr>\n",
       "  </thead>\n",
       "  <tbody>\n",
       "    <tr>\n",
       "      <th>0</th>\n",
       "      <td>plant_1</td>\n",
       "      <td>customer_1</td>\n",
       "      <td>843.18</td>\n",
       "    </tr>\n",
       "    <tr>\n",
       "      <th>1</th>\n",
       "      <td>plant_1</td>\n",
       "      <td>customer_2</td>\n",
       "      <td>1252.82</td>\n",
       "    </tr>\n",
       "    <tr>\n",
       "      <th>2</th>\n",
       "      <td>plant_1</td>\n",
       "      <td>customer_5</td>\n",
       "      <td>1304.46</td>\n",
       "    </tr>\n",
       "    <tr>\n",
       "      <th>3</th>\n",
       "      <td>plant_1</td>\n",
       "      <td>customer_14</td>\n",
       "      <td>901.05</td>\n",
       "    </tr>\n",
       "    <tr>\n",
       "      <th>4</th>\n",
       "      <td>plant_1</td>\n",
       "      <td>customer_15</td>\n",
       "      <td>510.35</td>\n",
       "    </tr>\n",
       "  </tbody>\n",
       "</table>\n",
       "</div>"
      ],
      "text/plain": [
       "     plant     customer  distance\n",
       "0  plant_1   customer_1    843.18\n",
       "1  plant_1   customer_2   1252.82\n",
       "2  plant_1   customer_5   1304.46\n",
       "3  plant_1  customer_14    901.05\n",
       "4  plant_1  customer_15    510.35"
      ]
     },
     "execution_count": 5,
     "metadata": {},
     "output_type": "execute_result"
    }
   ],
   "source": [
    "df = pd.read_csv('historic_data.csv')\n",
    "df.head()"
   ]
  },
  {
   "cell_type": "markdown",
   "id": "8377f7be",
   "metadata": {},
   "source": [
    "## Data cleaning"
   ]
  },
  {
   "cell_type": "markdown",
   "id": "183d7e2b",
   "metadata": {},
   "source": [
    "Let's find average of historic milages and add the location of plants and customers"
   ]
  },
  {
   "cell_type": "code",
   "execution_count": 6,
   "id": "8d643f7e",
   "metadata": {},
   "outputs": [
    {
     "data": {
      "text/html": [
       "<div>\n",
       "<style scoped>\n",
       "    .dataframe tbody tr th:only-of-type {\n",
       "        vertical-align: middle;\n",
       "    }\n",
       "\n",
       "    .dataframe tbody tr th {\n",
       "        vertical-align: top;\n",
       "    }\n",
       "\n",
       "    .dataframe thead th {\n",
       "        text-align: right;\n",
       "    }\n",
       "</style>\n",
       "<table border=\"1\" class=\"dataframe\">\n",
       "  <thead>\n",
       "    <tr style=\"text-align: right;\">\n",
       "      <th></th>\n",
       "      <th>plant</th>\n",
       "      <th>customer</th>\n",
       "      <th>distance</th>\n",
       "      <th>lat_plant</th>\n",
       "      <th>lon_plant</th>\n",
       "    </tr>\n",
       "  </thead>\n",
       "  <tbody>\n",
       "    <tr>\n",
       "      <th>0</th>\n",
       "      <td>plant_1</td>\n",
       "      <td>customer_1</td>\n",
       "      <td>843.18</td>\n",
       "      <td>42.142478</td>\n",
       "      <td>-82.767944</td>\n",
       "    </tr>\n",
       "    <tr>\n",
       "      <th>1</th>\n",
       "      <td>plant_1</td>\n",
       "      <td>customer_2</td>\n",
       "      <td>1252.82</td>\n",
       "      <td>42.142478</td>\n",
       "      <td>-82.767944</td>\n",
       "    </tr>\n",
       "    <tr>\n",
       "      <th>2</th>\n",
       "      <td>plant_1</td>\n",
       "      <td>customer_5</td>\n",
       "      <td>1304.46</td>\n",
       "      <td>42.142478</td>\n",
       "      <td>-82.767944</td>\n",
       "    </tr>\n",
       "    <tr>\n",
       "      <th>3</th>\n",
       "      <td>plant_1</td>\n",
       "      <td>customer_14</td>\n",
       "      <td>901.05</td>\n",
       "      <td>42.142478</td>\n",
       "      <td>-82.767944</td>\n",
       "    </tr>\n",
       "    <tr>\n",
       "      <th>4</th>\n",
       "      <td>plant_1</td>\n",
       "      <td>customer_15</td>\n",
       "      <td>510.35</td>\n",
       "      <td>42.142478</td>\n",
       "      <td>-82.767944</td>\n",
       "    </tr>\n",
       "  </tbody>\n",
       "</table>\n",
       "</div>"
      ],
      "text/plain": [
       "     plant     customer  distance  lat_plant  lon_plant\n",
       "0  plant_1   customer_1    843.18  42.142478 -82.767944\n",
       "1  plant_1   customer_2   1252.82  42.142478 -82.767944\n",
       "2  plant_1   customer_5   1304.46  42.142478 -82.767944\n",
       "3  plant_1  customer_14    901.05  42.142478 -82.767944\n",
       "4  plant_1  customer_15    510.35  42.142478 -82.767944"
      ]
     },
     "execution_count": 6,
     "metadata": {},
     "output_type": "execute_result"
    }
   ],
   "source": [
    "df = df.merge(plants, left_on='plant', right_on='plant')\n",
    "df.head()"
   ]
  },
  {
   "cell_type": "code",
   "execution_count": 7,
   "id": "be3f038a",
   "metadata": {},
   "outputs": [
    {
     "data": {
      "text/html": [
       "<div>\n",
       "<style scoped>\n",
       "    .dataframe tbody tr th:only-of-type {\n",
       "        vertical-align: middle;\n",
       "    }\n",
       "\n",
       "    .dataframe tbody tr th {\n",
       "        vertical-align: top;\n",
       "    }\n",
       "\n",
       "    .dataframe thead th {\n",
       "        text-align: right;\n",
       "    }\n",
       "</style>\n",
       "<table border=\"1\" class=\"dataframe\">\n",
       "  <thead>\n",
       "    <tr style=\"text-align: right;\">\n",
       "      <th></th>\n",
       "      <th>plant</th>\n",
       "      <th>customer</th>\n",
       "      <th>distance</th>\n",
       "      <th>lat_plant</th>\n",
       "      <th>lon_plant</th>\n",
       "      <th>lat_cust</th>\n",
       "      <th>lon_cust</th>\n",
       "      <th>cust_loc</th>\n",
       "    </tr>\n",
       "  </thead>\n",
       "  <tbody>\n",
       "    <tr>\n",
       "      <th>0</th>\n",
       "      <td>plant_1</td>\n",
       "      <td>customer_1</td>\n",
       "      <td>843.18</td>\n",
       "      <td>42.142478</td>\n",
       "      <td>-82.767944</td>\n",
       "      <td>33.119610</td>\n",
       "      <td>-97.400205</td>\n",
       "      <td>[-97.40020548679664, 33.119610297337566]</td>\n",
       "    </tr>\n",
       "    <tr>\n",
       "      <th>1</th>\n",
       "      <td>plant_3</td>\n",
       "      <td>customer_1</td>\n",
       "      <td>426.32</td>\n",
       "      <td>32.765674</td>\n",
       "      <td>-92.726484</td>\n",
       "      <td>33.119610</td>\n",
       "      <td>-97.400205</td>\n",
       "      <td>[-97.40020548679664, 33.119610297337566]</td>\n",
       "    </tr>\n",
       "    <tr>\n",
       "      <th>2</th>\n",
       "      <td>plant_5</td>\n",
       "      <td>customer_1</td>\n",
       "      <td>160.12</td>\n",
       "      <td>33.125264</td>\n",
       "      <td>-99.225366</td>\n",
       "      <td>33.119610</td>\n",
       "      <td>-97.400205</td>\n",
       "      <td>[-97.40020548679664, 33.119610297337566]</td>\n",
       "    </tr>\n",
       "    <tr>\n",
       "      <th>3</th>\n",
       "      <td>plant_10</td>\n",
       "      <td>customer_1</td>\n",
       "      <td>994.55</td>\n",
       "      <td>36.172684</td>\n",
       "      <td>-84.722734</td>\n",
       "      <td>33.119610</td>\n",
       "      <td>-97.400205</td>\n",
       "      <td>[-97.40020548679664, 33.119610297337566]</td>\n",
       "    </tr>\n",
       "    <tr>\n",
       "      <th>4</th>\n",
       "      <td>plant_1</td>\n",
       "      <td>customer_2</td>\n",
       "      <td>1252.82</td>\n",
       "      <td>42.142478</td>\n",
       "      <td>-82.767944</td>\n",
       "      <td>34.045329</td>\n",
       "      <td>-104.146559</td>\n",
       "      <td>[-104.14655867535417, 34.045328769219594]</td>\n",
       "    </tr>\n",
       "  </tbody>\n",
       "</table>\n",
       "</div>"
      ],
      "text/plain": [
       "      plant    customer  distance  lat_plant  lon_plant   lat_cust  \\\n",
       "0   plant_1  customer_1    843.18  42.142478 -82.767944  33.119610   \n",
       "1   plant_3  customer_1    426.32  32.765674 -92.726484  33.119610   \n",
       "2   plant_5  customer_1    160.12  33.125264 -99.225366  33.119610   \n",
       "3  plant_10  customer_1    994.55  36.172684 -84.722734  33.119610   \n",
       "4   plant_1  customer_2   1252.82  42.142478 -82.767944  34.045329   \n",
       "\n",
       "     lon_cust                                   cust_loc  \n",
       "0  -97.400205   [-97.40020548679664, 33.119610297337566]  \n",
       "1  -97.400205   [-97.40020548679664, 33.119610297337566]  \n",
       "2  -97.400205   [-97.40020548679664, 33.119610297337566]  \n",
       "3  -97.400205   [-97.40020548679664, 33.119610297337566]  \n",
       "4 -104.146559  [-104.14655867535417, 34.045328769219594]  "
      ]
     },
     "execution_count": 7,
     "metadata": {},
     "output_type": "execute_result"
    }
   ],
   "source": [
    "df = df.merge(customers, left_on='customer', right_on='customer')\n",
    "df.head()"
   ]
  },
  {
   "cell_type": "code",
   "execution_count": 8,
   "id": "27fa7b86",
   "metadata": {},
   "outputs": [
    {
     "data": {
      "text/plain": [
       "(450, 8)"
      ]
     },
     "execution_count": 8,
     "metadata": {},
     "output_type": "execute_result"
    }
   ],
   "source": [
    "df.shape"
   ]
  },
  {
   "cell_type": "code",
   "execution_count": 9,
   "id": "53fc1fb7",
   "metadata": {},
   "outputs": [],
   "source": [
    "df.drop(columns=['cust_loc'], inplace=True)"
   ]
  },
  {
   "cell_type": "code",
   "execution_count": 10,
   "id": "accd5ccb",
   "metadata": {},
   "outputs": [
    {
     "name": "stdout",
     "output_type": "stream",
     "text": [
      "<class 'pandas.core.frame.DataFrame'>\n",
      "Int64Index: 450 entries, 0 to 449\n",
      "Data columns (total 7 columns):\n",
      " #   Column     Non-Null Count  Dtype  \n",
      "---  ------     --------------  -----  \n",
      " 0   plant      450 non-null    object \n",
      " 1   customer   450 non-null    object \n",
      " 2   distance   450 non-null    float64\n",
      " 3   lat_plant  450 non-null    float64\n",
      " 4   lon_plant  450 non-null    float64\n",
      " 5   lat_cust   450 non-null    float64\n",
      " 6   lon_cust   450 non-null    float64\n",
      "dtypes: float64(5), object(2)\n",
      "memory usage: 28.1+ KB\n"
     ]
    }
   ],
   "source": [
    "df.info()"
   ]
  },
  {
   "cell_type": "markdown",
   "id": "f84c1efa",
   "metadata": {},
   "source": [
    "Lets find the shortest distance between points by using distance from geopy"
   ]
  },
  {
   "cell_type": "code",
   "execution_count": 11,
   "id": "fa6a450c",
   "metadata": {},
   "outputs": [],
   "source": [
    "## Lets find geodesc distance\n",
    "df['geo_distance'] = np.nan\n",
    "for index, row in df.iterrows():\n",
    "    point1 = [row['lat_plant'], row['lon_plant']]\n",
    "    point2 = [row['lat_cust'], row['lon_cust']]\n",
    "    df.loc[index,'geo_distance'] = distance(point1, point2).miles"
   ]
  },
  {
   "cell_type": "code",
   "execution_count": 12,
   "id": "af1b1d6f",
   "metadata": {},
   "outputs": [
    {
     "data": {
      "text/html": [
       "<div>\n",
       "<style scoped>\n",
       "    .dataframe tbody tr th:only-of-type {\n",
       "        vertical-align: middle;\n",
       "    }\n",
       "\n",
       "    .dataframe tbody tr th {\n",
       "        vertical-align: top;\n",
       "    }\n",
       "\n",
       "    .dataframe thead th {\n",
       "        text-align: right;\n",
       "    }\n",
       "</style>\n",
       "<table border=\"1\" class=\"dataframe\">\n",
       "  <thead>\n",
       "    <tr style=\"text-align: right;\">\n",
       "      <th></th>\n",
       "      <th>plant</th>\n",
       "      <th>customer</th>\n",
       "      <th>distance</th>\n",
       "      <th>lat_plant</th>\n",
       "      <th>lon_plant</th>\n",
       "      <th>lat_cust</th>\n",
       "      <th>lon_cust</th>\n",
       "      <th>geo_distance</th>\n",
       "    </tr>\n",
       "  </thead>\n",
       "  <tbody>\n",
       "    <tr>\n",
       "      <th>0</th>\n",
       "      <td>plant_1</td>\n",
       "      <td>customer_1</td>\n",
       "      <td>843.18</td>\n",
       "      <td>42.142478</td>\n",
       "      <td>-82.767944</td>\n",
       "      <td>33.11961</td>\n",
       "      <td>-97.400205</td>\n",
       "      <td>1013.066488</td>\n",
       "    </tr>\n",
       "    <tr>\n",
       "      <th>1</th>\n",
       "      <td>plant_3</td>\n",
       "      <td>customer_1</td>\n",
       "      <td>426.32</td>\n",
       "      <td>32.765674</td>\n",
       "      <td>-92.726484</td>\n",
       "      <td>33.11961</td>\n",
       "      <td>-97.400205</td>\n",
       "      <td>272.644352</td>\n",
       "    </tr>\n",
       "    <tr>\n",
       "      <th>2</th>\n",
       "      <td>plant_5</td>\n",
       "      <td>customer_1</td>\n",
       "      <td>160.12</td>\n",
       "      <td>33.125264</td>\n",
       "      <td>-99.225366</td>\n",
       "      <td>33.11961</td>\n",
       "      <td>-97.400205</td>\n",
       "      <td>105.838246</td>\n",
       "    </tr>\n",
       "    <tr>\n",
       "      <th>3</th>\n",
       "      <td>plant_10</td>\n",
       "      <td>customer_1</td>\n",
       "      <td>994.55</td>\n",
       "      <td>36.172684</td>\n",
       "      <td>-84.722734</td>\n",
       "      <td>33.11961</td>\n",
       "      <td>-97.400205</td>\n",
       "      <td>751.577091</td>\n",
       "    </tr>\n",
       "  </tbody>\n",
       "</table>\n",
       "</div>"
      ],
      "text/plain": [
       "      plant    customer  distance  lat_plant  lon_plant  lat_cust   lon_cust  \\\n",
       "0   plant_1  customer_1    843.18  42.142478 -82.767944  33.11961 -97.400205   \n",
       "1   plant_3  customer_1    426.32  32.765674 -92.726484  33.11961 -97.400205   \n",
       "2   plant_5  customer_1    160.12  33.125264 -99.225366  33.11961 -97.400205   \n",
       "3  plant_10  customer_1    994.55  36.172684 -84.722734  33.11961 -97.400205   \n",
       "\n",
       "   geo_distance  \n",
       "0   1013.066488  \n",
       "1    272.644352  \n",
       "2    105.838246  \n",
       "3    751.577091  "
      ]
     },
     "execution_count": 12,
     "metadata": {},
     "output_type": "execute_result"
    }
   ],
   "source": [
    "df.head(4)"
   ]
  },
  {
   "cell_type": "markdown",
   "id": "6ce8ccdb",
   "metadata": {},
   "source": [
    "Let's see how the data look and if a corelation is seen.  "
   ]
  },
  {
   "cell_type": "code",
   "execution_count": 14,
   "id": "a3988258",
   "metadata": {},
   "outputs": [
    {
     "data": {
      "text/plain": [
       "Text(0, 0.5, 'Distance (mile)')"
      ]
     },
     "execution_count": 14,
     "metadata": {},
     "output_type": "execute_result"
    },
    {
     "data": {
      "image/png": "[encoded data removed]",
      "text/plain": [
       "<Figure size 432x288 with 1 Axes>"
      ]
     },
     "metadata": {
      "needs_background": "light"
     },
     "output_type": "display_data"
    }
   ],
   "source": [
    "fig, ax = plt.subplots()\n",
    "sns.scatterplot(y=df['distance'], x=df['geo_distance'], ax=ax)\n",
    "ax.set_xlabel('Geo_distance (mile)')\n",
    "ax.set_ylabel('Distance (mile)')"
   ]
  },
  {
   "cell_type": "markdown",
   "id": "ecb4418e",
   "metadata": {},
   "source": [
    "There seems to be a nice linear relation between geo-distance and real travelled distance. However, there is also outliers, which should be addressed before doing a regression!"
   ]
  },
  {
   "cell_type": "markdown",
   "id": "dbe593c6",
   "metadata": {},
   "source": [
    "## Eliminate Outliers by Robust Regression"
   ]
  },
  {
   "cell_type": "markdown",
   "id": "7769877c",
   "metadata": {},
   "source": [
    "I will use two robust regression, RANSAC and Huber, to illustrate outliers. "
   ]
  },
  {
   "cell_type": "code",
   "execution_count": 123,
   "id": "4cdd6729",
   "metadata": {
    "scrolled": false
   },
   "outputs": [
    {
     "name": "stderr",
     "output_type": "stream",
     "text": [
      "C:\\Users\\somfl\\Anaconda3\\lib\\site-packages\\sklearn\\utils\\validation.py:1184: DataConversionWarning: A column-vector y was passed when a 1d array was expected. Please change the shape of y to (n_samples, ), for example using ravel().\n",
      "  y = column_or_1d(y, warn=True)\n"
     ]
    },
    {
     "data": {
      "image/png": "[encoded data removed]",
      "text/plain": [
       "<Figure size 864x288 with 2 Axes>"
      ]
     },
     "metadata": {
      "needs_background": "light"
     },
     "output_type": "display_data"
    }
   ],
   "source": [
    "estimators = [\n",
    "    (\"RANSAC Regressor\", RANSACRegressor(estimator=LinearRegression(fit_intercept=False), random_state=42)),\n",
    "    (\"Huber Regressor\", HuberRegressor(fit_intercept=False)),\n",
    "]\n",
    "lw = 2\n",
    "fig, [ax0, ax1]=plt.subplots(nrows=1, ncols=2, figsize=(12,4))\n",
    "\n",
    "for name, estimator in estimators:\n",
    "    X = df['geo_distance'].values.reshape(-1, 1)\n",
    "    y = df['distance'].values.reshape(-1, 1)\n",
    "    final = estimator.fit(X,y)\n",
    "    y_pred = estimator.predict(X)\n",
    "    y_true = y\n",
    "    value = mean_squared_error(y_true, y_pred)\n",
    "    \n",
    "    line_X = np.arange(0,1800,1)\n",
    "    line_y = final.predict(line_X.reshape(-1,1))\n",
    "    reg = LinearRegression(fit_intercept=False)\n",
    "    reg.fit(X,y)\n",
    "    line_y_ols = reg.predict(line_X.reshape(-1,1))    \n",
    "    if name==\"RANSAC Regressor\":\n",
    "     \n",
    "        inlier_mask = final.inlier_mask_\n",
    "        outlier_mask = np.logical_not(inlier_mask)\n",
    "        AX=ax0\n",
    "\n",
    "    else:\n",
    "        outlier_mask = final.outliers_\n",
    "        inlier_mask = np.logical_not(outlier_mask)\n",
    "        AX=ax1\n",
    "\n",
    "    AX.plot(line_X, line_y, color='green', lw=lw, label=name)\n",
    "\n",
    "    AX.scatter(x=X[inlier_mask], y=y[inlier_mask], c='blue', marker='o', s=25, label='Inliers')\n",
    "    AX.scatter(x=X[outlier_mask], y=y[outlier_mask], c='red', marker='s', s=25, label='Outliers')\n",
    "\n",
    "    \n",
    "    AX.plot(line_X, line_y_ols, color='orange', lw=lw, label='OLS')\n",
    "   \n",
    "    AX.set_xlim([0,1800])\n",
    "    AX.set_ylim([0,1800])\n",
    "    AX.set_title(name)\n",
    "    AX.set_xlabel('Geo Distance (mile)')\n",
    "    AX.set_ylabel('Traveled Distance (mile)')\n",
    "    AX.legend()\n",
    "\n",
    "\n",
    "\n"
   ]
  },
  {
   "cell_type": "markdown",
   "id": "8d70d6b0",
   "metadata": {},
   "source": [
    "In each graph, the orange line is the ordinary least square line and the green line is the robust regressor used, which in the left graph is RANSAC and in the right graph is Huber. red points are those data points marked as outlier by the robust regressor and the blue points are inliers. As illustrated, Huber regressor has flagged more data points as outliers and its outcome is closer to the OLS model. On the other hand RANSAC has flagged less number of points as outliers and resulted in a line with a more detectable difference from OLS."
   ]
  },
  {
   "cell_type": "markdown",
   "id": "af52164f",
   "metadata": {},
   "source": [
    "##  Squared Error"
   ]
  },
  {
   "cell_type": "code",
   "execution_count": 98,
   "id": "c117529b",
   "metadata": {},
   "outputs": [
    {
     "data": {
      "text/plain": [
       "<matplotlib.collections.PathCollection at 0x2ba9708dd30>"
      ]
     },
     "execution_count": 98,
     "metadata": {},
     "output_type": "execute_result"
    },
    {
     "data": {
      "image/png": "[encoded data removed]",
      "text/plain": [
       "<Figure size 432x288 with 1 Axes>"
      ]
     },
     "metadata": {
      "needs_background": "light"
     },
     "output_type": "display_data"
    }
   ],
   "source": [
    "fig, ax = plt.subplots()\n",
    "XX=y\n",
    "yy = np.square(XX - y_pred.reshape(-1,1))\n",
    "\n",
    "ax.scatter(XX, yy, s=10, color='blue', label='squared error')"
   ]
  },
  {
   "cell_type": "markdown",
   "id": "ae016ef7",
   "metadata": {},
   "source": [
    "##  Absolute Error"
   ]
  },
  {
   "cell_type": "code",
   "execution_count": 99,
   "id": "c7cbe105",
   "metadata": {},
   "outputs": [
    {
     "data": {
      "text/plain": [
       "<matplotlib.collections.PathCollection at 0x2ba96feea00>"
      ]
     },
     "execution_count": 99,
     "metadata": {},
     "output_type": "execute_result"
    },
    {
     "data": {
      "image/png": "[encoded data removed]",
      "text/plain": [
       "<Figure size 432x288 with 1 Axes>"
      ]
     },
     "metadata": {
      "needs_background": "light"
     },
     "output_type": "display_data"
    }
   ],
   "source": [
    "fig, ax = plt.subplots()\n",
    "XX=y\n",
    "yy = np.abs(XX - y_pred.reshape(-1,1))\n",
    "\n",
    "ax.scatter(XX, yy, s=10)"
   ]
  },
  {
   "cell_type": "markdown",
   "id": "da17bcd3",
   "metadata": {},
   "source": [
    "## Model training"
   ]
  },
  {
   "cell_type": "markdown",
   "id": "cf934b70",
   "metadata": {},
   "source": [
    "We split the data into two sets, training and test. Then use cross-validation with 5 fold to do a regression. we then find R2 and mean MAE"
   ]
  },
  {
   "cell_type": "code",
   "execution_count": 124,
   "id": "140622be",
   "metadata": {},
   "outputs": [
    {
     "name": "stdout",
     "output_type": "stream",
     "text": [
      "[0.93588977 0.94890735 0.9506589  0.9442702  0.92844949]\n",
      "train R2: 0.94\n",
      "test R2:  0.92\n"
     ]
    }
   ],
   "source": [
    "X=X[inlier_mask]\n",
    "X.shape\n",
    "y=y[inlier_mask]\n",
    "y.shape\n",
    "X_train, X_test, y_train, y_test = train_test_split(X, y, test_size=0.3, shuffle=True, random_state=42)\n",
    "model = LinearRegression(fit_intercept=False)\n",
    "kfold = KFold(n_splits=5, shuffle = False)\n",
    "\n",
    "cv_results = cross_validate(model, X_train, y_train, cv = kfold, scoring='r2', \\\n",
    "                            return_estimator=True, return_indices=True)\n",
    "cv_scores = cv_results['test_score']\n",
    "print(cv_scores)\n",
    "final_model = model.fit(X_train, y_train)\n",
    "y_train_pred = final_model.predict(X_train)\n",
    "y_test_pred = final_model.predict(X_test)\n",
    "\n",
    "train_r2 = round(r2_score(y_train, y_train_pred), 2)\n",
    "test_r2 = round(r2_score(y_test, y_test_pred), 2)\n",
    "print('train R2:', train_r2)\n",
    "print('test R2: ', test_r2)"
   ]
  },
  {
   "cell_type": "markdown",
   "id": "f45e61ee",
   "metadata": {},
   "source": [
    "The R2 for test and train are very similar. The model is not overfitting. Let's use it to predict the distance between plants and customers. But first lets see what pair we don't have data for."
   ]
  },
  {
   "cell_type": "code",
   "execution_count": 128,
   "id": "65c4432a",
   "metadata": {},
   "outputs": [
    {
     "name": "stderr",
     "output_type": "stream",
     "text": [
      "No handles with labels found to put in legend.\n"
     ]
    },
    {
     "data": {
      "text/plain": [
       "<matplotlib.legend.Legend at 0x2ba970be910>"
      ]
     },
     "execution_count": 128,
     "metadata": {},
     "output_type": "execute_result"
    },
    {
     "data": {
      "image/png": "[encoded data removed]",
      "text/plain": [
       "<Figure size 432x288 with 1 Axes>"
      ]
     },
     "metadata": {
      "needs_background": "light"
     },
     "output_type": "display_data"
    }
   ],
   "source": [
    "fig, ax = plt.subplots()\n",
    "line_X = np.arange(0,1800,1)\n",
    "line_y = final_model.predict(line_X.reshape(-1,1))\n",
    "\n",
    "ax.plot(line_X, line_y, color='green', lw=lw)\n",
    "\n",
    "ax.scatter(x=X, y=y, c='blue', marker='o', s=25)\n",
    "    \n",
    "\n",
    "ax.set_xlim([0,1800])\n",
    "ax.set_ylim([0,1800])\n",
    "ax.set_title('Final Model')\n",
    "ax.set_xlabel('Geo Distance (mile)')\n",
    "ax.set_ylabel('Traveled Distance (mile)')\n",
    "ax.legend()"
   ]
  },
  {
   "cell_type": "markdown",
   "id": "b89abeea",
   "metadata": {},
   "source": [
    "## Prediction"
   ]
  },
  {
   "cell_type": "code",
   "execution_count": 129,
   "id": "6654bdf6",
   "metadata": {},
   "outputs": [],
   "source": [
    "df['plant_customer'] = [str(x) + '**' + str(y) for x, y in zip(df['plant'], df['customer'])]\n",
    "all_pair = []\n",
    "for plant_name in plants['plant'].unique():\n",
    "    for customer in customers['customer']:\n",
    "        pair = plant_name + '**' + customer\n",
    "        all_pair.append(pair)\n",
    "        \n",
    "unavailable_pairs = list(set(all_pair) - set(all_pair).intersection(set(df['plant_customer'])))\n",
    "\n",
    "unavailable = pd.DataFrame()\n",
    "unavailable['plant'] = [pair.split('**')[0] for pair in unavailable_pairs]\n",
    "unavailable['customer'] = [pair.split('**')[1] for pair in unavailable_pairs]\n",
    "\n",
    "unavailable = unavailable.merge(plants, on='plant', how='left')\n",
    "unavailable = unavailable.merge(customers, on='customer', how='left')\n",
    "\n",
    "\n",
    "unavailable['geo_distance'] = np.nan\n",
    "for index, row in unavailable.iterrows():\n",
    "    \n",
    "    point1 = [row['lat_plant'], row['lon_plant']]\n",
    "    point2 = [row['lat_cust'], row['lon_cust']]\n",
    "    unavailable.loc[index,'geo_distance'] = distance(point1, point2).miles\n",
    "X = unavailable['geo_distance'].values.reshape(-1,1)\n",
    "\n",
    "prediction = final_model.predict(X)\n",
    "unavailable['distance'] = prediction\n",
    "for_submit = unavailable[['plant', 'customer', 'distance']]\n",
    "for_submit.to_excel('report.xlsx', index=False)"
   ]
  },
  {
   "cell_type": "code",
   "execution_count": null,
   "id": "35d586dd",
   "metadata": {},
   "outputs": [],
   "source": []
  }
 ],
 "metadata": {
  "kernelspec": {
   "display_name": "Python 3",
   "language": "python",
   "name": "python3"
  },
  "language_info": {
   "codemirror_mode": {
    "name": "ipython",
    "version": 3
   },
   "file_extension": ".py",
   "mimetype": "text/x-python",
   "name": "python",
   "nbconvert_exporter": "python",
   "pygments_lexer": "ipython3",
   "version": "3.8.8"
  }
 },
 "nbformat": 4,
 "nbformat_minor": 5
}
